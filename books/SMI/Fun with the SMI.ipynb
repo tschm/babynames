{
 "cells": [
  {
   "cell_type": "code",
   "execution_count": 14,
   "metadata": {},
   "outputs": [],
   "source": [
    "import pandas as pd\n",
    "import numpy as np\n",
    "import cvxpy as cvx\n",
    "%matplotlib inline  \n",
    "pd.options.display.max_rows=20"
   ]
  },
  {
   "cell_type": "code",
   "execution_count": 15,
   "metadata": {},
   "outputs": [
    {
     "data": {},
     "metadata": {},
     "output_type": "display_data"
    }
   ],
   "source": [
    "prices = pd.read_csv(\"prices.csv\", index_col=0)\n",
    "\n",
    "returns=prices.pct_change().fillna(0.0)\n",
    "returns"
   ]
  },
  {
   "cell_type": "code",
   "execution_count": 16,
   "metadata": {},
   "outputs": [
    {
     "name": "stdout",
     "output_type": "stream",
     "text": [
      "Swisscom AG                          10.459893\n",
      "Zurich Insurance Group AG            12.313890\n",
      "SGS SA                               12.347453\n",
      "Nestlé S.A.                          13.516935\n",
      "Givaudan SA                          14.372907\n",
      "Novartis AG                          14.821473\n",
      "Swiss Re Ltd                         14.925935\n",
      "Geberit AG                           15.145644\n",
      "Swiss Life Holding AG                15.185304\n",
      "ABB Ltd                              15.661099\n",
      "Roche Holding AG                     15.859774\n",
      "Sika AG                              15.973533\n",
      "Adecco Group AG                      17.553021\n",
      "Julius Baer Group Ltd.               18.698889\n",
      "LafargeHolcim Ltd                    19.742912\n",
      "Compagnie Financière Richemont SA    20.177269\n",
      "Lonza Group Ltd                      20.747507\n",
      "The Swatch Group AG                  21.764102\n",
      "Credit Suisse Group AG               23.839416\n",
      "UBS Group AG                         57.035049\n",
      "dtype: float64\n"
     ]
    }
   ],
   "source": [
    "print(100*16*returns.std().sort_values())"
   ]
  },
  {
   "cell_type": "code",
   "execution_count": 17,
   "metadata": {},
   "outputs": [
    {
     "data": {
      "text/plain": [
       "<matplotlib.axes._subplots.AxesSubplot at 0x7fc3b070bbe0>"
      ]
     },
     "execution_count": 17,
     "metadata": {},
     "output_type": "execute_result"
    },
    {
     "data": {
      "image/png": "[encoded data removed]",
      "text/plain": [
       "<Figure size 432x288 with 1 Axes>"
      ]
     },
     "metadata": {},
     "output_type": "display_data"
    }
   ],
   "source": [
    "# Severe problems with data quality here...\n",
    "prices[\"UBS Group AG\"].plot()"
   ]
  },
  {
   "cell_type": "code",
   "execution_count": 18,
   "metadata": {},
   "outputs": [
    {
     "data": {
      "text/plain": [
       "Lonza Group Ltd                       0.00%\n",
       "LafargeHolcim Ltd                     0.00%\n",
       "The Swatch Group AG                   0.00%\n",
       "Julius Baer Group Ltd.                0.00%\n",
       "Credit Suisse Group AG                0.00%\n",
       "Swiss Life Holding AG                 0.00%\n",
       "Geberit AG                            0.00%\n",
       "ABB Ltd                               0.00%\n",
       "UBS Group AG                          0.32%\n",
       "Swiss Re Ltd                          1.00%\n",
       "Roche Holding AG                      1.91%\n",
       "Adecco Group AG                       2.92%\n",
       "Novartis AG                           3.66%\n",
       "Compagnie Financière Richemont SA     3.69%\n",
       "Nestlé S.A.                           6.29%\n",
       "SGS SA                                7.52%\n",
       "Sika AG                              10.53%\n",
       "Givaudan SA                          12.47%\n",
       "Zurich Insurance Group AG            14.77%\n",
       "Swisscom AG                          34.92%\n",
       "dtype: object"
      ]
     },
     "execution_count": 18,
     "metadata": {},
     "output_type": "execute_result"
    }
   ],
   "source": [
    "def min_var(matrix):\n",
    "    w = cvx.Variable(matrix.shape[1])\n",
    "    \n",
    "    cvx.Problem(cvx.Minimize(cvx.norm(matrix.values*w,2)), \n",
    "                [0 <= w, cvx.sum(w) == 1]).solve()\n",
    "    \n",
    "    return 100*pd.Series(index=matrix.keys(), data=w.value).sort_values()\n",
    "\n",
    "min_var(returns).map('{:,.2f}%'.format)"
   ]
  },
  {
   "cell_type": "code",
   "execution_count": 19,
   "metadata": {},
   "outputs": [
    {
     "data": {
      "text/plain": [
       "UBS Group AG                         3.02%\n",
       "Credit Suisse Group AG               4.27%\n",
       "The Swatch Group AG                  4.43%\n",
       "Lonza Group Ltd                      4.57%\n",
       "LafargeHolcim Ltd                    4.63%\n",
       "Julius Baer Group Ltd.               4.75%\n",
       "Compagnie Financière Richemont SA    4.86%\n",
       "ABB Ltd                              4.90%\n",
       "Swiss Life Holding AG                4.92%\n",
       "Adecco Group AG                      4.94%\n",
       "Geberit AG                           5.18%\n",
       "Swiss Re Ltd                         5.20%\n",
       "Roche Holding AG                     5.25%\n",
       "Zurich Insurance Group AG            5.37%\n",
       "Novartis AG                          5.39%\n",
       "Sika AG                              5.49%\n",
       "SGS SA                               5.56%\n",
       "Nestlé S.A.                          5.67%\n",
       "Givaudan SA                          5.73%\n",
       "Swisscom AG                          5.86%\n",
       "dtype: object"
      ]
     },
     "execution_count": 19,
     "metadata": {},
     "output_type": "execute_result"
    }
   ],
   "source": [
    "def ridge(matrix, lamb_balance=0):\n",
    "    def __objective():\n",
    "        return cvx.Minimize(cvx.norm(matrix.values*w,2) + \n",
    "                            lamb_balance*cvx.norm(w,2))\n",
    "\n",
    "    w = cvx.Variable(matrix.shape[1])\n",
    "    cvx.Problem(__objective(), [0 <= w, cvx.sum(w) == 1]).solve()\n",
    "    return 100*pd.Series(index=matrix.keys(), data=w.value).sort_values()\n",
    "\n",
    "ridge(returns, 1).map('{:,.2f}%'.format)"
   ]
  },
  {
   "cell_type": "code",
   "execution_count": 20,
   "metadata": {},
   "outputs": [
    {
     "data": {
      "text/plain": [
       "UBS Group AG                         3.63%\n",
       "Credit Suisse Group AG               5.00%\n",
       "The Swatch Group AG                  5.00%\n",
       "Lonza Group Ltd                      5.00%\n",
       "LafargeHolcim Ltd                    5.00%\n",
       "Julius Baer Group Ltd.               5.00%\n",
       "Compagnie Financière Richemont SA    5.00%\n",
       "ABB Ltd                              5.00%\n",
       "Swiss Life Holding AG                5.00%\n",
       "Adecco Group AG                      5.00%\n",
       "Swiss Re Ltd                         5.00%\n",
       "Geberit AG                           5.00%\n",
       "Roche Holding AG                     5.00%\n",
       "Zurich Insurance Group AG            5.00%\n",
       "Novartis AG                          5.01%\n",
       "Sika AG                              5.10%\n",
       "SGS SA                               5.17%\n",
       "Nestlé S.A.                          5.28%\n",
       "Givaudan SA                          5.34%\n",
       "Swisscom AG                          5.46%\n",
       "dtype: object"
      ]
     },
     "execution_count": 20,
     "metadata": {},
     "output_type": "execute_result"
    }
   ],
   "source": [
    "def ElasticNet(matrix, w0, lamb_balance=0, lamb_trades=0):\n",
    "\n",
    "    def __objective():\n",
    "        return cvx.Minimize(cvx.norm(matrix.values*w,2) + \n",
    "                            lamb_balance*cvx.norm(w,2) + \n",
    "                            lamb_trades*cvx.norm(w-w0,1))\n",
    "\n",
    "    w = cvx.Variable(matrix.shape[1])\n",
    "    cvx.Problem(__objective(), [0 <= w, cvx.sum(w) == 1]).solve()\n",
    "    return 100*pd.Series(index=matrix.keys(), data=w.value).sort_values()\n",
    "\n",
    "ElasticNet(returns, w0=0.05, lamb_balance=1, lamb_trades=0.03).map('{:,.2f}%'.format)"
   ]
  },
  {
   "cell_type": "code",
   "execution_count": 21,
   "metadata": {},
   "outputs": [],
   "source": [
    "def ElasticNet(matrix, w0, lamb_balance=0, lamb_trades=0):\n",
    "\n",
    "    def __objective():\n",
    "        return cvx.Minimize(cvx.norm(matrix.values*w,2) + \n",
    "                            lamb_balance*cvx.norm(w,2) + \n",
    "                            lamb_trades*cvx.norm(w-w0,1))\n",
    "\n",
    "    w = cvx.Variable(matrix.shape[1])\n",
    "    cvx.Problem(__objective(), [0 <= w, cvx.sum(w) == 1]).solve()\n",
    "    return 100*pd.Series(index=matrix.keys(), data=w.value).sort_values()"
   ]
  }
 ],
 "metadata": {
  "kernelspec": {
   "display_name": "Python 3",
   "language": "python",
   "name": "python3"
  },
  "language_info": {
   "codemirror_mode": {
    "name": "ipython",
    "version": 3
   },
   "file_extension": ".py",
   "mimetype": "text/x-python",
   "name": "python",
   "nbconvert_exporter": "python",
   "pygments_lexer": "ipython3",
   "version": "3.6.8"
  },
  "toc": {
   "base_numbering": 1.0,
   "nav_menu": {},
   "number_sections": false,
   "sideBar": false,
   "skip_h1_title": false,
   "title_cell": "Table of Contents",
   "title_sidebar": "Contents",
   "toc_cell": false,
   "toc_position": {},
   "toc_section_display": false,
   "toc_window_display": false
  }
 },
 "nbformat": 4,
 "nbformat_minor": 2
}
