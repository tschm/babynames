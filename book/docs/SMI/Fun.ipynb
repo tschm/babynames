{
 "cells": [
  {
   "cell_type": "markdown",
   "source": [
    "# Fun with the SMI"
   ],
   "metadata": {
    "collapsed": false,
    "pycharm": {
     "name": "#%% md\n"
    }
   }
  },
  {
   "cell_type": "code",
   "execution_count": null,
   "outputs": [],
   "source": [
    "import pandas as pd\n",
    "import cvxpy as cvx\n",
    "%matplotlib inline\n",
    "pd.options.display.max_rows=20"
   ],
   "metadata": {
    "collapsed": false,
    "pycharm": {
     "name": "#%%\n"
    }
   }
  },
  {
   "cell_type": "code",
   "execution_count": 2,
   "metadata": {
    "pycharm": {
     "name": "#%%\n"
    }
   },
   "outputs": [
    {
     "data": {
      "text/html": [
       "<div>\n",
       "<style scoped>\n",
       "    .dataframe tbody tr th:only-of-type {\n",
       "        vertical-align: middle;\n",
       "    }\n",
       "\n",
       "    .dataframe tbody tr th {\n",
       "        vertical-align: top;\n",
       "    }\n",
       "\n",
       "    .dataframe thead th {\n",
       "        text-align: right;\n",
       "    }\n",
       "</style>\n",
       "<table border=\"1\" class=\"dataframe\">\n",
       "  <thead>\n",
       "    <tr style=\"text-align: right;\">\n",
       "      <th></th>\n",
       "      <th>ABB Ltd</th>\n",
       "      <th>Adecco Group AG</th>\n",
       "      <th>Julius Baer Group Ltd.</th>\n",
       "      <th>Compagnie Financière Richemont SA</th>\n",
       "      <th>Credit Suisse Group AG</th>\n",
       "      <th>Geberit AG</th>\n",
       "      <th>Givaudan SA</th>\n",
       "      <th>LafargeHolcim Ltd</th>\n",
       "      <th>Lonza Group Ltd</th>\n",
       "      <th>Nestlé S.A.</th>\n",
       "      <th>Novartis AG</th>\n",
       "      <th>Roche Holding AG</th>\n",
       "      <th>Swisscom AG</th>\n",
       "      <th>SGS SA</th>\n",
       "      <th>Sika AG</th>\n",
       "      <th>Swiss Life Holding AG</th>\n",
       "      <th>Swiss Re Ltd</th>\n",
       "      <th>UBS Group AG</th>\n",
       "      <th>The Swatch Group AG</th>\n",
       "      <th>Zurich Insurance Group AG</th>\n",
       "    </tr>\n",
       "    <tr>\n",
       "      <th>Date</th>\n",
       "      <th></th>\n",
       "      <th></th>\n",
       "      <th></th>\n",
       "      <th></th>\n",
       "      <th></th>\n",
       "      <th></th>\n",
       "      <th></th>\n",
       "      <th></th>\n",
       "      <th></th>\n",
       "      <th></th>\n",
       "      <th></th>\n",
       "      <th></th>\n",
       "      <th></th>\n",
       "      <th></th>\n",
       "      <th></th>\n",
       "      <th></th>\n",
       "      <th></th>\n",
       "      <th></th>\n",
       "      <th></th>\n",
       "      <th></th>\n",
       "    </tr>\n",
       "  </thead>\n",
       "  <tbody>\n",
       "    <tr>\n",
       "      <th>2017-09-08</th>\n",
       "      <td>0.000000</td>\n",
       "      <td>0.000000</td>\n",
       "      <td>0.000000</td>\n",
       "      <td>0.000000</td>\n",
       "      <td>0.000000</td>\n",
       "      <td>0.000000</td>\n",
       "      <td>0.000000</td>\n",
       "      <td>0.000000</td>\n",
       "      <td>0.000000</td>\n",
       "      <td>0.000000</td>\n",
       "      <td>0.000000</td>\n",
       "      <td>0.000000</td>\n",
       "      <td>0.000000</td>\n",
       "      <td>0.000000</td>\n",
       "      <td>0.000000</td>\n",
       "      <td>0.000000</td>\n",
       "      <td>0.000000</td>\n",
       "      <td>0.000000</td>\n",
       "      <td>0.000000</td>\n",
       "      <td>0.000000</td>\n",
       "    </tr>\n",
       "    <tr>\n",
       "      <th>2017-09-07</th>\n",
       "      <td>0.002201</td>\n",
       "      <td>0.005739</td>\n",
       "      <td>-0.000938</td>\n",
       "      <td>-0.007950</td>\n",
       "      <td>-0.005722</td>\n",
       "      <td>0.005920</td>\n",
       "      <td>0.000997</td>\n",
       "      <td>-0.010563</td>\n",
       "      <td>-0.004455</td>\n",
       "      <td>-0.002468</td>\n",
       "      <td>-0.000617</td>\n",
       "      <td>-0.005731</td>\n",
       "      <td>0.004839</td>\n",
       "      <td>0.008276</td>\n",
       "      <td>0.002168</td>\n",
       "      <td>0.006033</td>\n",
       "      <td>0.009130</td>\n",
       "      <td>0.109335</td>\n",
       "      <td>-0.003664</td>\n",
       "      <td>0.005025</td>\n",
       "    </tr>\n",
       "    <tr>\n",
       "      <th>2017-09-06</th>\n",
       "      <td>-0.001757</td>\n",
       "      <td>-0.005706</td>\n",
       "      <td>0.001878</td>\n",
       "      <td>-0.014310</td>\n",
       "      <td>0.007914</td>\n",
       "      <td>-0.007469</td>\n",
       "      <td>-0.017919</td>\n",
       "      <td>-0.004448</td>\n",
       "      <td>-0.013426</td>\n",
       "      <td>-0.003711</td>\n",
       "      <td>-0.010500</td>\n",
       "      <td>-0.001235</td>\n",
       "      <td>-0.005235</td>\n",
       "      <td>-0.007752</td>\n",
       "      <td>-0.019466</td>\n",
       "      <td>0.005697</td>\n",
       "      <td>0.010253</td>\n",
       "      <td>-0.103170</td>\n",
       "      <td>-0.013922</td>\n",
       "      <td>0.001786</td>\n",
       "    </tr>\n",
       "    <tr>\n",
       "      <th>2017-09-05</th>\n",
       "      <td>-0.005279</td>\n",
       "      <td>0.000717</td>\n",
       "      <td>-0.005623</td>\n",
       "      <td>-0.001161</td>\n",
       "      <td>-0.006424</td>\n",
       "      <td>0.000000</td>\n",
       "      <td>0.002027</td>\n",
       "      <td>0.009830</td>\n",
       "      <td>0.006186</td>\n",
       "      <td>0.004966</td>\n",
       "      <td>0.000000</td>\n",
       "      <td>-0.001237</td>\n",
       "      <td>0.001894</td>\n",
       "      <td>-0.018382</td>\n",
       "      <td>0.000000</td>\n",
       "      <td>0.005665</td>\n",
       "      <td>0.008955</td>\n",
       "      <td>-0.003213</td>\n",
       "      <td>0.004795</td>\n",
       "      <td>0.007130</td>\n",
       "    </tr>\n",
       "    <tr>\n",
       "      <th>2017-09-04</th>\n",
       "      <td>-0.007077</td>\n",
       "      <td>0.001434</td>\n",
       "      <td>0.006598</td>\n",
       "      <td>-0.012791</td>\n",
       "      <td>0.005747</td>\n",
       "      <td>-0.000228</td>\n",
       "      <td>-0.002023</td>\n",
       "      <td>0.006195</td>\n",
       "      <td>-0.003688</td>\n",
       "      <td>-0.008647</td>\n",
       "      <td>-0.000624</td>\n",
       "      <td>0.001651</td>\n",
       "      <td>0.003361</td>\n",
       "      <td>0.002809</td>\n",
       "      <td>0.010294</td>\n",
       "      <td>0.014527</td>\n",
       "      <td>0.015976</td>\n",
       "      <td>0.012250</td>\n",
       "      <td>0.002121</td>\n",
       "      <td>0.008850</td>\n",
       "    </tr>\n",
       "    <tr>\n",
       "      <th>...</th>\n",
       "      <td>...</td>\n",
       "      <td>...</td>\n",
       "      <td>...</td>\n",
       "      <td>...</td>\n",
       "      <td>...</td>\n",
       "      <td>...</td>\n",
       "      <td>...</td>\n",
       "      <td>...</td>\n",
       "      <td>...</td>\n",
       "      <td>...</td>\n",
       "      <td>...</td>\n",
       "      <td>...</td>\n",
       "      <td>...</td>\n",
       "      <td>...</td>\n",
       "      <td>...</td>\n",
       "      <td>...</td>\n",
       "      <td>...</td>\n",
       "      <td>...</td>\n",
       "      <td>...</td>\n",
       "      <td>...</td>\n",
       "    </tr>\n",
       "    <tr>\n",
       "      <th>2017-01-09</th>\n",
       "      <td>-0.012206</td>\n",
       "      <td>-0.007158</td>\n",
       "      <td>-0.005478</td>\n",
       "      <td>-0.038082</td>\n",
       "      <td>0.001259</td>\n",
       "      <td>-0.001219</td>\n",
       "      <td>0.010840</td>\n",
       "      <td>-0.004638</td>\n",
       "      <td>-0.003957</td>\n",
       "      <td>0.005383</td>\n",
       "      <td>-0.005305</td>\n",
       "      <td>-0.006163</td>\n",
       "      <td>0.009309</td>\n",
       "      <td>0.007626</td>\n",
       "      <td>0.002500</td>\n",
       "      <td>0.009514</td>\n",
       "      <td>0.002087</td>\n",
       "      <td>0.001192</td>\n",
       "      <td>-0.027559</td>\n",
       "      <td>0.001760</td>\n",
       "    </tr>\n",
       "    <tr>\n",
       "      <th>2017-01-06</th>\n",
       "      <td>0.004119</td>\n",
       "      <td>0.000721</td>\n",
       "      <td>0.013983</td>\n",
       "      <td>-0.011730</td>\n",
       "      <td>-0.001257</td>\n",
       "      <td>0.001464</td>\n",
       "      <td>0.002145</td>\n",
       "      <td>0.009320</td>\n",
       "      <td>0.003814</td>\n",
       "      <td>-0.001339</td>\n",
       "      <td>-0.003333</td>\n",
       "      <td>-0.002480</td>\n",
       "      <td>0.001931</td>\n",
       "      <td>-0.006149</td>\n",
       "      <td>-0.004987</td>\n",
       "      <td>0.004039</td>\n",
       "      <td>0.007809</td>\n",
       "      <td>0.011905</td>\n",
       "      <td>-0.027094</td>\n",
       "      <td>0.003514</td>\n",
       "    </tr>\n",
       "    <tr>\n",
       "      <th>2017-01-05</th>\n",
       "      <td>-0.007748</td>\n",
       "      <td>0.000720</td>\n",
       "      <td>0.011910</td>\n",
       "      <td>-0.018546</td>\n",
       "      <td>-0.008185</td>\n",
       "      <td>0.000975</td>\n",
       "      <td>0.002675</td>\n",
       "      <td>-0.003693</td>\n",
       "      <td>-0.004338</td>\n",
       "      <td>-0.006702</td>\n",
       "      <td>0.002007</td>\n",
       "      <td>-0.000414</td>\n",
       "      <td>-0.000642</td>\n",
       "      <td>0.001428</td>\n",
       "      <td>0.014408</td>\n",
       "      <td>-0.001006</td>\n",
       "      <td>0.002583</td>\n",
       "      <td>-0.001765</td>\n",
       "      <td>-0.005762</td>\n",
       "      <td>0.000700</td>\n",
       "    </tr>\n",
       "    <tr>\n",
       "      <th>2017-01-04</th>\n",
       "      <td>-0.000459</td>\n",
       "      <td>0.000000</td>\n",
       "      <td>-0.005988</td>\n",
       "      <td>0.005291</td>\n",
       "      <td>0.020306</td>\n",
       "      <td>-0.009253</td>\n",
       "      <td>-0.000534</td>\n",
       "      <td>-0.005561</td>\n",
       "      <td>-0.005451</td>\n",
       "      <td>-0.010796</td>\n",
       "      <td>-0.007343</td>\n",
       "      <td>-0.012852</td>\n",
       "      <td>-0.015638</td>\n",
       "      <td>-0.006179</td>\n",
       "      <td>0.001441</td>\n",
       "      <td>0.001678</td>\n",
       "      <td>0.009789</td>\n",
       "      <td>0.008839</td>\n",
       "      <td>0.009015</td>\n",
       "      <td>0.004549</td>\n",
       "    </tr>\n",
       "    <tr>\n",
       "      <th>2017-01-03</th>\n",
       "      <td>-0.001379</td>\n",
       "      <td>-0.027358</td>\n",
       "      <td>-0.009763</td>\n",
       "      <td>0.011278</td>\n",
       "      <td>-0.033578</td>\n",
       "      <td>0.007373</td>\n",
       "      <td>-0.007475</td>\n",
       "      <td>-0.003728</td>\n",
       "      <td>-0.031211</td>\n",
       "      <td>-0.008186</td>\n",
       "      <td>0.009415</td>\n",
       "      <td>-0.008820</td>\n",
       "      <td>-0.015669</td>\n",
       "      <td>0.001435</td>\n",
       "      <td>0.004728</td>\n",
       "      <td>-0.006700</td>\n",
       "      <td>-0.004592</td>\n",
       "      <td>-0.024533</td>\n",
       "      <td>0.005424</td>\n",
       "      <td>-0.003831</td>\n",
       "    </tr>\n",
       "  </tbody>\n",
       "</table>\n",
       "<p>173 rows × 20 columns</p>\n",
       "</div>"
      ],
      "text/plain": [
       "             ABB Ltd  Adecco Group AG  Julius Baer Group Ltd.  \\\n",
       "Date                                                            \n",
       "2017-09-08  0.000000         0.000000                0.000000   \n",
       "2017-09-07  0.002201         0.005739               -0.000938   \n",
       "2017-09-06 -0.001757        -0.005706                0.001878   \n",
       "2017-09-05 -0.005279         0.000717               -0.005623   \n",
       "2017-09-04 -0.007077         0.001434                0.006598   \n",
       "...              ...              ...                     ...   \n",
       "2017-01-09 -0.012206        -0.007158               -0.005478   \n",
       "2017-01-06  0.004119         0.000721                0.013983   \n",
       "2017-01-05 -0.007748         0.000720                0.011910   \n",
       "2017-01-04 -0.000459         0.000000               -0.005988   \n",
       "2017-01-03 -0.001379        -0.027358               -0.009763   \n",
       "\n",
       "            Compagnie Financière Richemont SA  Credit Suisse Group AG  \\\n",
       "Date                                                                    \n",
       "2017-09-08                           0.000000                0.000000   \n",
       "2017-09-07                          -0.007950               -0.005722   \n",
       "2017-09-06                          -0.014310                0.007914   \n",
       "2017-09-05                          -0.001161               -0.006424   \n",
       "2017-09-04                          -0.012791                0.005747   \n",
       "...                                       ...                     ...   \n",
       "2017-01-09                          -0.038082                0.001259   \n",
       "2017-01-06                          -0.011730               -0.001257   \n",
       "2017-01-05                          -0.018546               -0.008185   \n",
       "2017-01-04                           0.005291                0.020306   \n",
       "2017-01-03                           0.011278               -0.033578   \n",
       "\n",
       "            Geberit AG  Givaudan SA  LafargeHolcim Ltd  Lonza Group Ltd  \\\n",
       "Date                                                                      \n",
       "2017-09-08    0.000000     0.000000           0.000000         0.000000   \n",
       "2017-09-07    0.005920     0.000997          -0.010563        -0.004455   \n",
       "2017-09-06   -0.007469    -0.017919          -0.004448        -0.013426   \n",
       "2017-09-05    0.000000     0.002027           0.009830         0.006186   \n",
       "2017-09-04   -0.000228    -0.002023           0.006195        -0.003688   \n",
       "...                ...          ...                ...              ...   \n",
       "2017-01-09   -0.001219     0.010840          -0.004638        -0.003957   \n",
       "2017-01-06    0.001464     0.002145           0.009320         0.003814   \n",
       "2017-01-05    0.000975     0.002675          -0.003693        -0.004338   \n",
       "2017-01-04   -0.009253    -0.000534          -0.005561        -0.005451   \n",
       "2017-01-03    0.007373    -0.007475          -0.003728        -0.031211   \n",
       "\n",
       "            Nestlé S.A.  Novartis AG  Roche Holding AG  Swisscom AG    SGS SA  \\\n",
       "Date                                                                            \n",
       "2017-09-08     0.000000     0.000000          0.000000     0.000000  0.000000   \n",
       "2017-09-07    -0.002468    -0.000617         -0.005731     0.004839  0.008276   \n",
       "2017-09-06    -0.003711    -0.010500         -0.001235    -0.005235 -0.007752   \n",
       "2017-09-05     0.004966     0.000000         -0.001237     0.001894 -0.018382   \n",
       "2017-09-04    -0.008647    -0.000624          0.001651     0.003361  0.002809   \n",
       "...                 ...          ...               ...          ...       ...   \n",
       "2017-01-09     0.005383    -0.005305         -0.006163     0.009309  0.007626   \n",
       "2017-01-06    -0.001339    -0.003333         -0.002480     0.001931 -0.006149   \n",
       "2017-01-05    -0.006702     0.002007         -0.000414    -0.000642  0.001428   \n",
       "2017-01-04    -0.010796    -0.007343         -0.012852    -0.015638 -0.006179   \n",
       "2017-01-03    -0.008186     0.009415         -0.008820    -0.015669  0.001435   \n",
       "\n",
       "             Sika AG  Swiss Life Holding AG  Swiss Re Ltd  UBS Group AG  \\\n",
       "Date                                                                      \n",
       "2017-09-08  0.000000               0.000000      0.000000      0.000000   \n",
       "2017-09-07  0.002168               0.006033      0.009130      0.109335   \n",
       "2017-09-06 -0.019466               0.005697      0.010253     -0.103170   \n",
       "2017-09-05  0.000000               0.005665      0.008955     -0.003213   \n",
       "2017-09-04  0.010294               0.014527      0.015976      0.012250   \n",
       "...              ...                    ...           ...           ...   \n",
       "2017-01-09  0.002500               0.009514      0.002087      0.001192   \n",
       "2017-01-06 -0.004987               0.004039      0.007809      0.011905   \n",
       "2017-01-05  0.014408              -0.001006      0.002583     -0.001765   \n",
       "2017-01-04  0.001441               0.001678      0.009789      0.008839   \n",
       "2017-01-03  0.004728              -0.006700     -0.004592     -0.024533   \n",
       "\n",
       "            The Swatch Group AG  Zurich Insurance Group AG  \n",
       "Date                                                        \n",
       "2017-09-08             0.000000                   0.000000  \n",
       "2017-09-07            -0.003664                   0.005025  \n",
       "2017-09-06            -0.013922                   0.001786  \n",
       "2017-09-05             0.004795                   0.007130  \n",
       "2017-09-04             0.002121                   0.008850  \n",
       "...                         ...                        ...  \n",
       "2017-01-09            -0.027559                   0.001760  \n",
       "2017-01-06            -0.027094                   0.003514  \n",
       "2017-01-05            -0.005762                   0.000700  \n",
       "2017-01-04             0.009015                   0.004549  \n",
       "2017-01-03             0.005424                  -0.003831  \n",
       "\n",
       "[173 rows x 20 columns]"
      ]
     },
     "execution_count": 2,
     "metadata": {},
     "output_type": "execute_result"
    }
   ],
   "source": [
    "prices = pd.read_csv(\"prices.csv\", index_col=0)\n",
    "\n",
    "returns=prices.pct_change().fillna(0.0)\n",
    "returns"
   ]
  },
  {
   "cell_type": "code",
   "execution_count": 3,
   "metadata": {
    "pycharm": {
     "name": "#%%\n"
    }
   },
   "outputs": [
    {
     "name": "stdout",
     "output_type": "stream",
     "text": [
      "Swisscom AG                          10.459893\n",
      "Zurich Insurance Group AG            12.313890\n",
      "SGS SA                               12.347453\n",
      "Nestlé S.A.                          13.516935\n",
      "Givaudan SA                          14.372907\n",
      "Novartis AG                          14.821473\n",
      "Swiss Re Ltd                         14.925935\n",
      "Geberit AG                           15.145644\n",
      "Swiss Life Holding AG                15.185304\n",
      "ABB Ltd                              15.661099\n",
      "Roche Holding AG                     15.859774\n",
      "Sika AG                              15.973533\n",
      "Adecco Group AG                      17.553021\n",
      "Julius Baer Group Ltd.               18.698889\n",
      "LafargeHolcim Ltd                    19.742912\n",
      "Compagnie Financière Richemont SA    20.177269\n",
      "Lonza Group Ltd                      20.747507\n",
      "The Swatch Group AG                  21.764102\n",
      "Credit Suisse Group AG               23.839416\n",
      "UBS Group AG                         57.035049\n",
      "dtype: float64\n"
     ]
    }
   ],
   "source": [
    "print(100*16*returns.std().sort_values())"
   ]
  },
  {
   "cell_type": "code",
   "execution_count": 3,
   "metadata": {
    "pycharm": {
     "name": "#%%\n"
    }
   },
   "outputs": [
    {
     "name": "stderr",
     "output_type": "stream",
     "text": [
      "/opt/conda/lib/python3.8/site-packages/pandas/plotting/_matplotlib/core.py:1192: UserWarning: FixedFormatter should only be used together with FixedLocator\n",
      "  ax.set_xticklabels(xticklabels)\n"
     ]
    },
    {
     "data": {
      "text/plain": [
       "<AxesSubplot:xlabel='Date'>"
      ]
     },
     "execution_count": 3,
     "metadata": {},
     "output_type": "execute_result"
    },
    {
     "data": {
      "image/png": "[encoded data removed]",
      "text/plain": [
       "<Figure size 432x288 with 1 Axes>"
      ]
     },
     "metadata": {
      "needs_background": "light"
     },
     "output_type": "display_data"
    }
   ],
   "source": [
    "# Severe problems with data quality here...\n",
    "prices[\"UBS Group AG\"].plot()"
   ]
  },
  {
   "cell_type": "code",
   "execution_count": 4,
   "metadata": {
    "pycharm": {
     "name": "#%%\n"
    }
   },
   "outputs": [
    {
     "name": "stderr",
     "output_type": "stream",
     "text": [
      "/opt/conda/lib/python3.8/site-packages/cvxpy/expressions/expression.py:550: UserWarning: \n",
      "This use of ``*`` has resulted in matrix multiplication.\n",
      "Using ``*`` for matrix multiplication has been deprecated since CVXPY 1.1.\n",
      "    Use ``*`` for matrix-scalar and vector-scalar multiplication.\n",
      "    Use ``@`` for matrix-matrix and matrix-vector multiplication.\n",
      "    Use ``multiply`` for elementwise multiplication.\n",
      "\n",
      "  warnings.warn(__STAR_MATMUL_WARNING__, UserWarning)\n"
     ]
    },
    {
     "data": {
      "text/plain": [
       "Lonza Group Ltd                       0.00%\n",
       "LafargeHolcim Ltd                     0.00%\n",
       "The Swatch Group AG                   0.00%\n",
       "Julius Baer Group Ltd.                0.00%\n",
       "Credit Suisse Group AG                0.00%\n",
       "Swiss Life Holding AG                 0.00%\n",
       "Geberit AG                            0.00%\n",
       "ABB Ltd                               0.00%\n",
       "UBS Group AG                          0.32%\n",
       "Swiss Re Ltd                          1.00%\n",
       "Roche Holding AG                      1.91%\n",
       "Adecco Group AG                       2.92%\n",
       "Novartis AG                           3.66%\n",
       "Compagnie Financière Richemont SA     3.69%\n",
       "Nestlé S.A.                           6.29%\n",
       "SGS SA                                7.52%\n",
       "Sika AG                              10.53%\n",
       "Givaudan SA                          12.47%\n",
       "Zurich Insurance Group AG            14.77%\n",
       "Swisscom AG                          34.92%\n",
       "dtype: object"
      ]
     },
     "execution_count": 4,
     "metadata": {},
     "output_type": "execute_result"
    }
   ],
   "source": [
    "def min_var(matrix):\n",
    "    w = cvx.Variable(matrix.shape[1])\n",
    "    \n",
    "    cvx.Problem(cvx.Minimize(cvx.norm(matrix.values*w,2)), \n",
    "                [0 <= w, cvx.sum(w) == 1]).solve()\n",
    "    \n",
    "    return 100*pd.Series(index=matrix.keys(), data=w.value).sort_values()\n",
    "\n",
    "min_var(returns).map('{:,.2f}%'.format)"
   ]
  },
  {
   "cell_type": "code",
   "execution_count": 5,
   "metadata": {
    "pycharm": {
     "name": "#%%\n"
    }
   },
   "outputs": [
    {
     "name": "stderr",
     "output_type": "stream",
     "text": [
      "/opt/conda/lib/python3.8/site-packages/ipykernel/ipkernel.py:287: DeprecationWarning: `should_run_async` will not call `transform_cell` automatically in the future. Please pass the result to `transformed_cell` argument and any exception that happen during thetransform in `preprocessing_exc_tuple` in IPython 7.17 and above.\n",
      "  and should_run_async(code)\n",
      "/opt/conda/lib/python3.8/site-packages/cvxpy/expressions/expression.py:550: UserWarning: \n",
      "This use of ``*`` has resulted in matrix multiplication.\n",
      "Using ``*`` for matrix multiplication has been deprecated since CVXPY 1.1.\n",
      "    Use ``*`` for matrix-scalar and vector-scalar multiplication.\n",
      "    Use ``@`` for matrix-matrix and matrix-vector multiplication.\n",
      "    Use ``multiply`` for elementwise multiplication.\n",
      "\n",
      "  warnings.warn(__STAR_MATMUL_WARNING__, UserWarning)\n"
     ]
    },
    {
     "data": {
      "text/plain": [
       "UBS Group AG                         3.02%\n",
       "Credit Suisse Group AG               4.27%\n",
       "The Swatch Group AG                  4.43%\n",
       "Lonza Group Ltd                      4.57%\n",
       "LafargeHolcim Ltd                    4.63%\n",
       "Julius Baer Group Ltd.               4.75%\n",
       "Compagnie Financière Richemont SA    4.86%\n",
       "ABB Ltd                              4.90%\n",
       "Swiss Life Holding AG                4.92%\n",
       "Adecco Group AG                      4.94%\n",
       "Geberit AG                           5.18%\n",
       "Swiss Re Ltd                         5.20%\n",
       "Roche Holding AG                     5.25%\n",
       "Zurich Insurance Group AG            5.37%\n",
       "Novartis AG                          5.39%\n",
       "Sika AG                              5.49%\n",
       "SGS SA                               5.56%\n",
       "Nestlé S.A.                          5.67%\n",
       "Givaudan SA                          5.73%\n",
       "Swisscom AG                          5.86%\n",
       "dtype: object"
      ]
     },
     "execution_count": 5,
     "metadata": {},
     "output_type": "execute_result"
    }
   ],
   "source": [
    "def ridge(matrix, lamb_balance=0):\n",
    "    def __objective():\n",
    "        return cvx.Minimize(cvx.norm(matrix.values*w,2) + \n",
    "                            lamb_balance*cvx.norm(w,2))\n",
    "\n",
    "    w = cvx.Variable(matrix.shape[1])\n",
    "    cvx.Problem(__objective(), [0 <= w, cvx.sum(w) == 1]).solve()\n",
    "    return 100*pd.Series(index=matrix.keys(), data=w.value).sort_values()\n",
    "\n",
    "ridge(returns, 1).map('{:,.2f}%'.format)"
   ]
  },
  {
   "cell_type": "code",
   "execution_count": 6,
   "metadata": {
    "pycharm": {
     "name": "#%%\n"
    }
   },
   "outputs": [
    {
     "name": "stderr",
     "output_type": "stream",
     "text": [
      "/opt/conda/lib/python3.8/site-packages/ipykernel/ipkernel.py:287: DeprecationWarning: `should_run_async` will not call `transform_cell` automatically in the future. Please pass the result to `transformed_cell` argument and any exception that happen during thetransform in `preprocessing_exc_tuple` in IPython 7.17 and above.\n",
      "  and should_run_async(code)\n",
      "/opt/conda/lib/python3.8/site-packages/cvxpy/expressions/expression.py:550: UserWarning: \n",
      "This use of ``*`` has resulted in matrix multiplication.\n",
      "Using ``*`` for matrix multiplication has been deprecated since CVXPY 1.1.\n",
      "    Use ``*`` for matrix-scalar and vector-scalar multiplication.\n",
      "    Use ``@`` for matrix-matrix and matrix-vector multiplication.\n",
      "    Use ``multiply`` for elementwise multiplication.\n",
      "\n",
      "  warnings.warn(__STAR_MATMUL_WARNING__, UserWarning)\n"
     ]
    },
    {
     "data": {
      "text/plain": [
       "UBS Group AG                         3.63%\n",
       "Credit Suisse Group AG               5.00%\n",
       "The Swatch Group AG                  5.00%\n",
       "Lonza Group Ltd                      5.00%\n",
       "LafargeHolcim Ltd                    5.00%\n",
       "Julius Baer Group Ltd.               5.00%\n",
       "Compagnie Financière Richemont SA    5.00%\n",
       "ABB Ltd                              5.00%\n",
       "Swiss Life Holding AG                5.00%\n",
       "Adecco Group AG                      5.00%\n",
       "Swiss Re Ltd                         5.00%\n",
       "Geberit AG                           5.00%\n",
       "Roche Holding AG                     5.00%\n",
       "Zurich Insurance Group AG            5.00%\n",
       "Novartis AG                          5.01%\n",
       "Sika AG                              5.10%\n",
       "SGS SA                               5.17%\n",
       "Nestlé S.A.                          5.28%\n",
       "Givaudan SA                          5.34%\n",
       "Swisscom AG                          5.46%\n",
       "dtype: object"
      ]
     },
     "execution_count": 6,
     "metadata": {},
     "output_type": "execute_result"
    }
   ],
   "source": [
    "def ElasticNet(matrix, w0, lamb_balance=0, lamb_trades=0):\n",
    "\n",
    "    def __objective():\n",
    "        return cvx.Minimize(cvx.norm(matrix.values*w,2) + \n",
    "                            lamb_balance*cvx.norm(w,2) + \n",
    "                            lamb_trades*cvx.norm(w-w0,1))\n",
    "\n",
    "    w = cvx.Variable(matrix.shape[1])\n",
    "    cvx.Problem(__objective(), [0 <= w, cvx.sum(w) == 1]).solve()\n",
    "    return 100*pd.Series(index=matrix.keys(), data=w.value).sort_values()\n",
    "\n",
    "ElasticNet(returns, w0=0.05, lamb_balance=1, lamb_trades=0.03).map('{:,.2f}%'.format)"
   ]
  },
  {
   "cell_type": "code",
   "execution_count": 7,
   "metadata": {
    "pycharm": {
     "name": "#%%\n"
    }
   },
   "outputs": [
    {
     "name": "stderr",
     "output_type": "stream",
     "text": [
      "/opt/conda/lib/python3.8/site-packages/ipykernel/ipkernel.py:287: DeprecationWarning: `should_run_async` will not call `transform_cell` automatically in the future. Please pass the result to `transformed_cell` argument and any exception that happen during thetransform in `preprocessing_exc_tuple` in IPython 7.17 and above.\n",
      "  and should_run_async(code)\n"
     ]
    }
   ],
   "source": [
    "def ElasticNet(matrix, w0, lamb_balance=0, lamb_trades=0):\n",
    "\n",
    "    def __objective():\n",
    "        return cvx.Minimize(cvx.norm(matrix.values*w,2) + \n",
    "                            lamb_balance*cvx.norm(w,2) + \n",
    "                            lamb_trades*cvx.norm(w-w0,1))\n",
    "\n",
    "    w = cvx.Variable(matrix.shape[1])\n",
    "    cvx.Problem(__objective(), [0 <= w, cvx.sum(w) == 1]).solve()\n",
    "    return 100*pd.Series(index=matrix.keys(), data=w.value).sort_values()"
   ]
  },
  {
   "cell_type": "code",
   "execution_count": null,
   "metadata": {
    "pycharm": {
     "name": "#%%\n"
    }
   },
   "outputs": [],
   "source": []
  }
 ],
 "metadata": {
  "kernelspec": {
   "display_name": "Python 3",
   "language": "python",
   "name": "python3"
  },
  "language_info": {
   "codemirror_mode": {
    "name": "ipython",
    "version": 3
   },
   "file_extension": ".py",
   "mimetype": "text/x-python",
   "name": "python",
   "nbconvert_exporter": "python",
   "pygments_lexer": "ipython3",
   "version": "3.8.5"
  },
  "toc": {
   "base_numbering": 1,
   "nav_menu": {},
   "number_sections": false,
   "sideBar": false,
   "skip_h1_title": false,
   "title_cell": "Table of Contents",
   "title_sidebar": "Contents",
   "toc_cell": false,
   "toc_position": {},
   "toc_section_display": false,
   "toc_window_display": false
  }
 },
 "nbformat": 4,
 "nbformat_minor": 2
}