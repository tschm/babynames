{
 "cells": [
  {
   "cell_type": "code",
   "execution_count": 1,
   "metadata": {
    "pycharm": {
     "name": "#%%\n"
    }
   },
   "outputs": [],
   "source": [
    "import pandas as pd\n",
    "import numpy as np\n",
    "pd.options.display.max_rows=20"
   ]
  },
  {
   "cell_type": "code",
   "execution_count": 5,
   "metadata": {
    "pycharm": {
     "name": "#%%\n"
    }
   },
   "outputs": [],
   "source": [
    "boys = pd.read_csv(\"boys.csv\", index_col=0)\n",
    "girls = pd.read_csv(\"girls.csv\", index_col=0)"
   ]
  },
  {
   "cell_type": "markdown",
   "metadata": {
    "pycharm": {
     "name": "#%% md\n"
    }
   },
   "source": [
    "## Each name lives on the unit-simplex\n",
    "\n",
    "## Each name can be projected to the unit-sphere\n",
    "\n",
    "## We compute the Bhattacharyya angle (correlation)"
   ]
  },
  {
   "cell_type": "code",
   "execution_count": 6,
   "metadata": {
    "pycharm": {
     "name": "#%%\n"
    }
   },
   "outputs": [],
   "source": [
    "# project to unit-simplex\n",
    "def proj_simplex(ts):\n",
    "    return ts.fillna(0)/ts.sum()\n",
    "    \n",
    "# project to unit-sphere \n",
    "def proj_sphere(ts):\n",
    "    return np.sqrt(proj_simplex(ts))"
   ]
  },
  {
   "cell_type": "code",
   "execution_count": 7,
   "metadata": {
    "pycharm": {
     "name": "#%%\n"
    }
   },
   "outputs": [],
   "source": [
    "def match(body1, body2):\n",
    "    if isinstance(body1, pd.Series):\n",
    "        body1 = body1.to_frame()\n",
    "    if isinstance(body2, pd.Series):\n",
    "        body2 = body2.to_frame()\n",
    "    x = body1.apply(proj_sphere)\n",
    "    y = body2.apply(proj_sphere)\n",
    "    x = pd.DataFrame({key : x[key].dot(y) for key in x.keys()}).stack().sort_values()\n",
    "    x.index.names = [\"Name A\", \"Name B\"]\n",
    "    return x"
   ]
  },
  {
   "cell_type": "code",
   "execution_count": 8,
   "metadata": {
    "pycharm": {
     "name": "#%%\n"
    }
   },
   "outputs": [
    {
     "name": "stdout",
     "output_type": "stream",
     "text": [
      "Name A    Name B\n",
      "Vreneli   Thomas    0.123203\n",
      "Malea     Thomas    0.139364\n",
      "Berthe    Thomas    0.188331\n",
      "Käthe     Thomas    0.201503\n",
      "Aloisia   Thomas    0.206416\n",
      "                      ...   \n",
      "Claudia   Thomas    0.987475\n",
      "Daniela   Thomas    0.987561\n",
      "Patricia  Thomas    0.989455\n",
      "Sabina    Thomas    0.990225\n",
      "Isabelle  Thomas    0.996147\n",
      "Length: 1001, dtype: float64\n"
     ]
    }
   ],
   "source": [
    "x = match(boys[\"Thomas\"], girls)\n",
    "print(x)"
   ]
  },
  {
   "cell_type": "code",
   "execution_count": 9,
   "metadata": {
    "pycharm": {
     "name": "#%%\n"
    }
   },
   "outputs": [
    {
     "data": {
      "text/plain": [
       "Name A  Name B\n",
       "Urs     Ajan      0.021155\n",
       "        Lean      0.029118\n",
       "        Lio       0.029173\n",
       "        Timéo     0.032286\n",
       "        Lian      0.034533\n",
       "                    ...   \n",
       "        Jörg      0.989443\n",
       "        Roland    0.989977\n",
       "        Beat      0.991063\n",
       "        Jürg      0.996088\n",
       "        Urs       1.000000\n",
       "Length: 1001, dtype: float64"
      ]
     },
     "execution_count": 9,
     "metadata": {},
     "output_type": "execute_result"
    }
   ],
   "source": [
    "match(boys, boys[\"Urs\"])"
   ]
  },
  {
   "cell_type": "code",
   "execution_count": 7,
   "metadata": {
    "pycharm": {
     "name": "#%%\n"
    }
   },
   "outputs": [
    {
     "data": {
      "text/plain": [
       "Name A    Name B \n",
       "Bertha    Leart      0.000000\n",
       "Vreneli   Aurel      0.000000\n",
       "          Bashkim    0.000000\n",
       "Gerlinde  Besart     0.000000\n",
       "Vreneli   Melvin     0.000000\n",
       "                       ...   \n",
       "Isabelle  Thomas     0.996147\n",
       "Ruth      Alfred     0.996206\n",
       "Marianne  Peter      0.996891\n",
       "Ursula    Ulrich     0.996977\n",
       "Ruth      Walter     0.997695\n",
       "Length: 1002001, dtype: float64"
      ]
     },
     "execution_count": 7,
     "metadata": {},
     "output_type": "execute_result"
    }
   ],
   "source": [
    "match(boys, girls)\n",
    "# Ruth is amazing!"
   ]
  },
  {
   "cell_type": "code",
   "execution_count": 16,
   "metadata": {
    "pycharm": {
     "name": "#%%\n"
    }
   },
   "outputs": [],
   "source": [
    "def pair_plot(ts1, ts2, project=True):\n",
    "    if project:\n",
    "        ts1 = proj_simplex(ts1)\n",
    "        ts2 = proj_simplex(ts2)\n",
    "    print(match(ts1, ts2))\n",
    "    \n",
    "    x = pd.DataFrame({ts1.name: ts1, ts2.name: ts2})    \n",
    "    return x.plot()"
   ]
  },
  {
   "cell_type": "code",
   "execution_count": 17,
   "metadata": {
    "pycharm": {
     "name": "#%%\n"
    }
   },
   "outputs": [
    {
     "name": "stdout",
     "output_type": "stream",
     "text": [
      "Name A     Name B   \n",
      "Elisabeth  Gottfried    0.950556\n",
      "dtype: float64\n"
     ]
    },
    {
     "data": {
      "text/plain": [
       "<AxesSubplot:>"
      ]
     },
     "execution_count": 17,
     "metadata": {},
     "output_type": "execute_result"
    },
    {
     "data": {
      "image/png": "[encoded data removed]",
      "text/plain": [
       "<Figure size 432x288 with 1 Axes>"
      ]
     },
     "metadata": {
      "needs_background": "light"
     },
     "output_type": "display_data"
    }
   ],
   "source": [
    "pair_plot(boys[\"Gottfried\"], girls[\"Elisabeth\"], project=True)"
   ]
  },
  {
   "cell_type": "code",
   "execution_count": 17,
   "metadata": {
    "pycharm": {
     "name": "#%%\n"
    }
   },
   "outputs": [
    {
     "name": "stdout",
     "output_type": "stream",
     "text": [
      "Name A  Name B\n",
      "Rachel  Chris     0.827544\n",
      "dtype: float64\n"
     ]
    },
    {
     "data": {
      "application/vnd.jupyter.widget-view+json": {
       "model_id": "faf9bfe2aa4144a8a7daf945f9537198",
       "version_major": 2,
       "version_minor": 0
      }
     },
     "metadata": {},
     "output_type": "display_data"
    }
   ],
   "source": [
    "pair_plot(boys[\"Chris\"], girls[\"Rachel\"], project=True)"
   ]
  },
  {
   "cell_type": "code",
   "execution_count": 18,
   "metadata": {
    "pycharm": {
     "name": "#%%\n"
    }
   },
   "outputs": [
    {
     "name": "stdout",
     "output_type": "stream",
     "text": [
      "Name A     Name B\n",
      "Christian  Chris     0.632565\n",
      "dtype: float64\n"
     ]
    },
    {
     "data": {
      "application/vnd.jupyter.widget-view+json": {
       "model_id": "8caa71acfe6e49c9ac8f7e11f4a99f40",
       "version_major": 2,
       "version_minor": 0
      }
     },
     "metadata": {},
     "output_type": "display_data"
    }
   ],
   "source": [
    "pair_plot(boys[\"Chris\"], boys[\"Christian\"], project=False)"
   ]
  },
  {
   "cell_type": "code",
   "execution_count": 19,
   "metadata": {
    "pycharm": {
     "name": "#%%\n"
    }
   },
   "outputs": [
    {
     "name": "stdout",
     "output_type": "stream",
     "text": [
      "Name A  Name B\n",
      "Beat    Urs       0.991063\n",
      "dtype: float64\n"
     ]
    },
    {
     "data": {
      "application/vnd.jupyter.widget-view+json": {
       "model_id": "3e0c56ad18c642b4be869b69b62cca28",
       "version_major": 2,
       "version_minor": 0
      }
     },
     "metadata": {},
     "output_type": "display_data"
    }
   ],
   "source": [
    "pair_plot(boys[\"Urs\"], boys[\"Beat\"], project=True)"
   ]
  },
  {
   "cell_type": "code",
   "execution_count": 20,
   "metadata": {
    "pycharm": {
     "name": "#%%\n"
    }
   },
   "outputs": [
    {
     "name": "stdout",
     "output_type": "stream",
     "text": [
      "Name A  Name B\n",
      "Ruth    Walter    0.997695\n",
      "dtype: float64\n"
     ]
    },
    {
     "data": {
      "application/vnd.jupyter.widget-view+json": {
       "model_id": "b103eee9e5ec4955a8454e27ee81b7cb",
       "version_major": 2,
       "version_minor": 0
      }
     },
     "metadata": {},
     "output_type": "display_data"
    }
   ],
   "source": [
    "pair_plot(boys[\"Walter\"], girls[\"Ruth\"])"
   ]
  },
  {
   "cell_type": "code",
   "execution_count": 21,
   "metadata": {
    "pycharm": {
     "name": "#%%\n"
    }
   },
   "outputs": [
    {
     "data": {
      "text/plain": [
       "0.7234260956505042"
      ]
     },
     "execution_count": 21,
     "metadata": {},
     "output_type": "execute_result"
    }
   ],
   "source": [
    "match(boys[\"Thomas\"],girls).mean()"
   ]
  },
  {
   "cell_type": "code",
   "execution_count": 18,
   "metadata": {
    "pycharm": {
     "name": "#%%\n"
    }
   },
   "outputs": [
    {
     "data": {
      "text/plain": [
       "Name A\n",
       "Vreneli     0.170455\n",
       "Berthe      0.215745\n",
       "Hulda       0.237297\n",
       "Aloisia     0.238164\n",
       "Käthe       0.241385\n",
       "              ...   \n",
       "Vera        0.794323\n",
       "Gloria      0.794494\n",
       "Carolina    0.794808\n",
       "Ilona       0.795513\n",
       "Adriana     0.801120\n",
       "Name: 0, Length: 1001, dtype: float64"
      ]
     },
     "execution_count": 18,
     "metadata": {},
     "output_type": "execute_result"
    }
   ],
   "source": [
    "# which girl has the best matching with the boys, e.g. we match each girl against all boys and compute the mean\n",
    "# for each girl. A high number indicates that the girl would be very compatible\n",
    "match(boys,girls).reset_index().groupby(by=\"Name A\")[0].mean().sort_values()"
   ]
  },
  {
   "cell_type": "code",
   "execution_count": 19,
   "metadata": {
    "pycharm": {
     "name": "#%%\n"
    }
   },
   "outputs": [
    {
     "data": {
      "text/plain": [
       "Name A\n",
       "Vreneli     0.170455\n",
       "Berthe      0.215745\n",
       "Hulda       0.237297\n",
       "Aloisia     0.238164\n",
       "Käthe       0.241385\n",
       "              ...   \n",
       "Vera        0.794323\n",
       "Gloria      0.794494\n",
       "Carolina    0.794808\n",
       "Ilona       0.795513\n",
       "Adriana     0.801120\n",
       "Name: 0, Length: 1001, dtype: float64"
      ]
     },
     "execution_count": 19,
     "metadata": {},
     "output_type": "execute_result"
    }
   ],
   "source": [
    "match(boys, girls).reset_index().groupby(by=\"Name A\")[0].mean().sort_values()"
   ]
  },
  {
   "cell_type": "code",
   "execution_count": null,
   "metadata": {
    "pycharm": {
     "name": "#%%\n"
    }
   },
   "outputs": [],
   "source": []
  }
 ],
 "metadata": {
  "kernelspec": {
   "display_name": "Python 3",
   "language": "python",
   "name": "python3"
  },
  "language_info": {
   "codemirror_mode": {
    "name": "ipython",
    "version": 3
   },
   "file_extension": ".py",
   "mimetype": "text/x-python",
   "name": "python",
   "nbconvert_exporter": "python",
   "pygments_lexer": "ipython3",
   "version": "3.8.5"
  },
  "toc": {
   "base_numbering": 1,
   "nav_menu": {},
   "number_sections": false,
   "sideBar": false,
   "skip_h1_title": false,
   "title_cell": "Table of Contents",
   "title_sidebar": "Contents",
   "toc_cell": false,
   "toc_position": {},
   "toc_section_display": false,
   "toc_window_display": false
  }
 },
 "nbformat": 4,
 "nbformat_minor": 2
}