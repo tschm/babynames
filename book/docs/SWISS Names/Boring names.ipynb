{
 "cells": [
  {
   "cell_type": "code",
   "execution_count": 2,
   "metadata": {
    "pycharm": {
     "name": "#%%\n"
    }
   },
   "outputs": [],
   "source": [
    "import pandas as pd\n",
    "import numpy as np"
   ]
  },
  {
   "cell_type": "code",
   "execution_count": 3,
   "metadata": {
    "pycharm": {
     "name": "#%%\n"
    }
   },
   "outputs": [],
   "source": [
    "boys = pd.read_csv(\"boys.csv\", index_col=0)\n",
    "girls = pd.read_csv(\"girls.csv\", index_col=0)"
   ]
  },
  {
   "cell_type": "markdown",
   "metadata": {
    "pycharm": {
     "name": "#%% md\n"
    }
   },
   "source": [
    "## Definition: \n",
    "### A name is boring if it's associated discrete distribution is close to a uniform distribution.\n",
    "\n",
    "### The Shannon-entropy $\\sum p_i \\times \\log p_i$ is maximal for the uniform distribution. Dangerous! (Kullback-Leibler)\n",
    "\n",
    "### The Euclidean norm $\\sqrt{\\sum p_i^2}$ is is minimal for the uniform distribution. "
   ]
  },
  {
   "cell_type": "code",
   "execution_count": 4,
   "metadata": {
    "pycharm": {
     "name": "#%%\n"
    }
   },
   "outputs": [],
   "source": [
    "from scipy.stats import entropy as e\n",
    "\n",
    "def entropy(ts, base=None):\n",
    "    ts = ts.dropna()/ts.sum()\n",
    "    return e(ts, base=base)\n",
    "\n",
    "def norm(ts):\n",
    "    ts = ts.dropna()/ts.sum()\n",
    "    return np.linalg.norm(ts, 2)"
   ]
  },
  {
   "cell_type": "code",
   "execution_count": 5,
   "metadata": {
    "pycharm": {
     "name": "#%%\n"
    }
   },
   "outputs": [
    {
     "data": {
      "text/plain": [
       "Malea        1.922015\n",
       "Liridona     2.383276\n",
       "Alea         2.489563\n",
       "Erina        2.538360\n",
       "Ela          2.562839\n",
       "               ...   \n",
       "Cécile       4.475675\n",
       "Lidia        4.492047\n",
       "Flora        4.493008\n",
       "Anna         4.497587\n",
       "Charlotte    4.499979\n",
       "Length: 1001, dtype: float64"
      ]
     },
     "execution_count": 5,
     "metadata": {},
     "output_type": "execute_result"
    }
   ],
   "source": [
    "girls.apply(entropy).sort_values()"
   ]
  },
  {
   "cell_type": "code",
   "execution_count": 5,
   "metadata": {
    "pycharm": {
     "name": "#%%\n"
    }
   },
   "outputs": [
    {
     "data": {
      "text/plain": [
       "Charlotte    0.108804\n",
       "Flora        0.109369\n",
       "Lidia        0.109463\n",
       "Adrienne     0.110417\n",
       "Cécile       0.110465\n",
       "               ...   \n",
       "Mila         0.299986\n",
       "Erina        0.312320\n",
       "Alea         0.316439\n",
       "Liridona     0.386957\n",
       "Malea        0.396190\n",
       "Length: 1001, dtype: float64"
      ]
     },
     "execution_count": 5,
     "metadata": {},
     "output_type": "execute_result"
    }
   ],
   "source": [
    "girls.apply(norm).sort_values()"
   ]
  },
  {
   "cell_type": "code",
   "execution_count": 6,
   "metadata": {
    "pycharm": {
     "name": "#%%\n"
    }
   },
   "outputs": [
    {
     "data": {
      "text/plain": [
       "Ajan       1.887003\n",
       "Lio        2.198045\n",
       "Lean       2.203565\n",
       "Lian       2.341162\n",
       "Timéo      2.407414\n",
       "             ...   \n",
       "Giacomo    4.428905\n",
       "Carl       4.440666\n",
       "Edouard    4.440675\n",
       "Maurice    4.450051\n",
       "Hugo       4.458888\n",
       "Length: 1001, dtype: float64"
      ]
     },
     "execution_count": 6,
     "metadata": {},
     "output_type": "execute_result"
    }
   ],
   "source": [
    "boys.apply(entropy).sort_values()"
   ]
  },
  {
   "cell_type": "code",
   "execution_count": 7,
   "metadata": {
    "pycharm": {
     "name": "#%%\n"
    }
   },
   "outputs": [
    {
     "data": {
      "text/plain": [
       "Hugo       0.111172\n",
       "Giacomo    0.112030\n",
       "Rémy       0.112625\n",
       "Maurice    0.113068\n",
       "Carl       0.113411\n",
       "             ...   \n",
       "Timéo      0.311135\n",
       "Lian       0.340125\n",
       "Lean       0.359315\n",
       "Lio        0.374499\n",
       "Ajan       0.423314\n",
       "Length: 1001, dtype: float64"
      ]
     },
     "execution_count": 7,
     "metadata": {},
     "output_type": "execute_result"
    }
   ],
   "source": [
    "boys.apply(norm).sort_values()"
   ]
  },
  {
   "cell_type": "code",
   "execution_count": 9,
   "metadata": {
    "pycharm": {
     "name": "#%%\n"
    }
   },
   "outputs": [
    {
     "data": {
      "text/plain": [
       "<AxesSubplot:>"
      ]
     },
     "execution_count": 9,
     "metadata": {},
     "output_type": "execute_result"
    },
    {
     "data": {
      "image/png": "[encoded data removed]",
      "text/plain": [
       "<Figure size 432x288 with 1 Axes>"
      ]
     },
     "metadata": {
      "needs_background": "light"
     },
     "output_type": "display_data"
    }
   ],
   "source": [
    "pair = pd.DataFrame({\"Boy\": boys[\"Thomas\"].dropna(), \"Girl\": girls[\"Charlotte\"].dropna()})\n",
    "pair.plot()"
   ]
  },
  {
   "cell_type": "code",
   "execution_count": null,
   "metadata": {
    "pycharm": {
     "name": "#%%\n"
    }
   },
   "outputs": [],
   "source": []
  }
 ],
 "metadata": {
  "kernelspec": {
   "display_name": "Python 3 (ipykernel)",
   "language": "python",
   "name": "python3"
  },
  "language_info": {
   "codemirror_mode": {
    "name": "ipython",
    "version": 3
   },
   "file_extension": ".py",
   "mimetype": "text/x-python",
   "name": "python",
   "nbconvert_exporter": "python",
   "pygments_lexer": "ipython3",
   "version": "3.12.7"
  },
  "toc": {
   "base_numbering": 1,
   "nav_menu": {},
   "number_sections": false,
   "sideBar": false,
   "skip_h1_title": false,
   "title_cell": "Table of Contents",
   "title_sidebar": "Contents",
   "toc_cell": false,
   "toc_position": {},
   "toc_section_display": false,
   "toc_window_display": false
  }
 },
 "nbformat": 4,
 "nbformat_minor": 4
}
