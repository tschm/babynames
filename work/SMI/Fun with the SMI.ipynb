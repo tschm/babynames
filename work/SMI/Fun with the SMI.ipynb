{
 "cells": [
  {
   "cell_type": "code",
   "execution_count": null,
   "metadata": {},
   "outputs": [],
   "source": [
    "import pandas as pd\n",
    "import numpy as np\n",
    "import cvxpy as cvx\n",
    "%matplotlib inline  \n",
    "pd.options.display.max_rows=20"
   ]
  },
  {
   "cell_type": "code",
   "execution_count": null,
   "metadata": {},
   "outputs": [],
   "source": [
    "prices = pd.read_csv(\"prices.csv\", index_col=0)\n",
    "\n",
    "returns=prices.pct_change().fillna(0.0)\n",
    "returns"
   ]
  },
  {
   "cell_type": "code",
   "execution_count": null,
   "metadata": {},
   "outputs": [],
   "source": [
    "print(100*16*returns.std().sort_values())"
   ]
  },
  {
   "cell_type": "code",
   "execution_count": null,
   "metadata": {},
   "outputs": [],
   "source": [
    "# Severe problems with data quality here...\n",
    "prices[\"UBS Group AG\"].plot()"
   ]
  },
  {
   "cell_type": "code",
   "execution_count": null,
   "metadata": {},
   "outputs": [],
   "source": [
    "def min_var(matrix):\n",
    "    w = cvx.Variable(matrix.shape[1])\n",
    "    \n",
    "    cvx.Problem(cvx.Minimize(cvx.norm(matrix.values*w,2)), \n",
    "                [0 <= w, cvx.sum(w) == 1]).solve()\n",
    "    \n",
    "    return 100*pd.Series(index=matrix.keys(), data=w.value).sort_values()\n",
    "\n",
    "min_var(returns).map('{:,.2f}%'.format)"
   ]
  },
  {
   "cell_type": "code",
   "execution_count": null,
   "metadata": {},
   "outputs": [],
   "source": [
    "def ridge(matrix, lamb_balance=0):\n",
    "    def __objective():\n",
    "        return cvx.Minimize(cvx.norm(matrix.values*w,2) + \n",
    "                            lamb_balance*cvx.norm(w,2))\n",
    "\n",
    "    w = cvx.Variable(matrix.shape[1])\n",
    "    cvx.Problem(__objective(), [0 <= w, cvx.sum(w) == 1]).solve()\n",
    "    return 100*pd.Series(index=matrix.keys(), data=w.value).sort_values()\n",
    "\n",
    "ridge(returns, 1).map('{:,.2f}%'.format)"
   ]
  },
  {
   "cell_type": "code",
   "execution_count": null,
   "metadata": {},
   "outputs": [],
   "source": [
    "def ElasticNet(matrix, w0, lamb_balance=0, lamb_trades=0):\n",
    "\n",
    "    def __objective():\n",
    "        return cvx.Minimize(cvx.norm(matrix.values*w,2) + \n",
    "                            lamb_balance*cvx.norm(w,2) + \n",
    "                            lamb_trades*cvx.norm(w-w0,1))\n",
    "\n",
    "    w = cvx.Variable(matrix.shape[1])\n",
    "    cvx.Problem(__objective(), [0 <= w, cvx.sum(w) == 1]).solve()\n",
    "    return 100*pd.Series(index=matrix.keys(), data=w.value).sort_values()\n",
    "\n",
    "ElasticNet(returns, w0=0.05, lamb_balance=1, lamb_trades=0.03).map('{:,.2f}%'.format)"
   ]
  },
  {
   "cell_type": "code",
   "execution_count": null,
   "metadata": {},
   "outputs": [],
   "source": [
    "def ElasticNet(matrix, w0, lamb_balance=0, lamb_trades=0):\n",
    "\n",
    "    def __objective():\n",
    "        return cvx.Minimize(cvx.norm(matrix.values*w,2) + \n",
    "                            lamb_balance*cvx.norm(w,2) + \n",
    "                            lamb_trades*cvx.norm(w-w0,1))\n",
    "\n",
    "    w = cvx.Variable(matrix.shape[1])\n",
    "    cvx.Problem(__objective(), [0 <= w, cvx.sum(w) == 1]).solve()\n",
    "    return 100*pd.Series(index=matrix.keys(), data=w.value).sort_values()"
   ]
  }
 ],
 "metadata": {
  "kernelspec": {
   "display_name": "Python 3",
   "language": "python",
   "name": "python3"
  },
  "language_info": {
   "codemirror_mode": {
    "name": "ipython",
    "version": 3
   },
   "file_extension": ".py",
   "mimetype": "text/x-python",
   "name": "python",
   "nbconvert_exporter": "python",
   "pygments_lexer": "ipython3",
   "version": "3.6.7"
  },
  "toc": {
   "base_numbering": 1,
   "nav_menu": {},
   "number_sections": false,
   "sideBar": false,
   "skip_h1_title": false,
   "title_cell": "Table of Contents",
   "title_sidebar": "Contents",
   "toc_cell": false,
   "toc_position": {},
   "toc_section_display": false,
   "toc_window_display": false
  }
 },
 "nbformat": 4,
 "nbformat_minor": 2
}
