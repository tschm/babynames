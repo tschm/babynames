{
 "cells": [
  {
   "cell_type": "code",
   "execution_count": 1,
   "metadata": {},
   "outputs": [],
   "source": [
    "import pandas as pd\n",
    "from beakerx import *"
   ]
  },
  {
   "cell_type": "code",
   "execution_count": 2,
   "metadata": {},
   "outputs": [],
   "source": [
    "boys = pd.read_csv(\"boys.csv\", index_col=0)\n",
    "girls = pd.read_csv(\"girls.csv\", index_col=0)"
   ]
  },
  {
   "cell_type": "markdown",
   "metadata": {},
   "source": [
    "## Definition: \n",
    "### A name is boring if it's associated discrete distribution is close to a uniform distribution.\n",
    "\n",
    "### The Shannon-entropy $\\sum p_i \\times \\log p_i$ is maximal for the uniform distribution. Dangerous! (Kullback-Leibler)\n",
    "\n",
    "### The Euclidean norm $\\sqrt{\\sum p_i^2}$ is is minimal for the uniform distribution. "
   ]
  },
  {
   "cell_type": "code",
   "execution_count": 3,
   "metadata": {},
   "outputs": [],
   "source": [
    "from scipy.stats import entropy as e\n",
    "def entropy(ts, base=None):\n",
    "    ts = ts.dropna()/ts.sum()\n",
    "    return e(ts, base=base)\n",
    "\n",
    "??e\n",
    "import numpy as np\n",
    "def norm(ts):\n",
    "    ts = ts.dropna()/ts.sum()\n",
    "    return np.linalg.norm(ts, 2)"
   ]
  },
  {
   "cell_type": "code",
   "execution_count": 4,
   "metadata": {},
   "outputs": [
    {
     "data": {
      "text/plain": [
       "Malea        1.922015\n",
       "Liridona     2.383276\n",
       "Alea         2.489563\n",
       "Erina        2.538360\n",
       "Ela          2.562839\n",
       "Norah        2.582800\n",
       "Elea         2.584822\n",
       "Elin         2.647004\n",
       "Ava          2.719921\n",
       "Mégane       2.732076\n",
       "Kiara        2.777959\n",
       "Leana        2.810243\n",
       "Leona        2.818110\n",
       "Amelie       2.828119\n",
       "Jara         2.836298\n",
       "Shania       2.838250\n",
       "Albulena     2.842627\n",
       "Jaël         2.854799\n",
       "Mia          2.854943\n",
       "Enya         2.888421\n",
       "Egzona       2.894938\n",
       "Sónia        2.910174\n",
       "Eline        2.917233\n",
       "Yara         2.938071\n",
       "Léane        2.950506\n",
       "Fitore       2.954183\n",
       "Anisa        2.956992\n",
       "Noa          2.972626\n",
       "Mila         2.980513\n",
       "Lana         2.982229\n",
       "               ...   \n",
       "Adriana      4.402657\n",
       "Solange      4.409596\n",
       "Josephine    4.413911\n",
       "Louise       4.423340\n",
       "Lydia        4.424229\n",
       "Hélène       4.427493\n",
       "Caterina     4.428666\n",
       "Alma         4.432289\n",
       "Marta        4.433099\n",
       "Lucia        4.433565\n",
       "Cecilia      4.435750\n",
       "Paula        4.437781\n",
       "Eva          4.439203\n",
       "Jeanne       4.440826\n",
       "Erica        4.441674\n",
       "Alice        4.443654\n",
       "Paulina      4.445055\n",
       "Karolina     4.450547\n",
       "Ellen        4.452747\n",
       "Ines         4.457673\n",
       "Eleonora     4.458789\n",
       "Antonia      4.460043\n",
       "Claire       4.461556\n",
       "Adrienne     4.465776\n",
       "Helena       4.468316\n",
       "Cécile       4.475675\n",
       "Lidia        4.492047\n",
       "Flora        4.493008\n",
       "Anna         4.497587\n",
       "Charlotte    4.499979\n",
       "Length: 1001, dtype: float64"
      ]
     },
     "execution_count": 4,
     "metadata": {},
     "output_type": "execute_result"
    }
   ],
   "source": [
    "girls.apply(entropy).sort_values()"
   ]
  },
  {
   "cell_type": "code",
   "execution_count": 5,
   "metadata": {},
   "outputs": [
    {
     "data": {
      "text/plain": [
       "Charlotte    0.108804\n",
       "Flora        0.109369\n",
       "Lidia        0.109463\n",
       "Adrienne     0.110417\n",
       "Cécile       0.110465\n",
       "Anna         0.110636\n",
       "Eleonora     0.111261\n",
       "Antonia      0.111446\n",
       "Claire       0.111450\n",
       "Ellen        0.111652\n",
       "Helena       0.111714\n",
       "Ines         0.112121\n",
       "Eva          0.112368\n",
       "Erica        0.112390\n",
       "Cecilia      0.112427\n",
       "Paulina      0.113963\n",
       "Karolina     0.114010\n",
       "Lucia        0.114198\n",
       "Caterina     0.114459\n",
       "Adriana      0.114784\n",
       "Solange      0.114933\n",
       "Hélène       0.115109\n",
       "Giuliana     0.115375\n",
       "Ilona        0.115780\n",
       "Alice        0.115895\n",
       "Alma         0.116123\n",
       "Jeanne       0.116256\n",
       "Eliane       0.116309\n",
       "Lise         0.116553\n",
       "Marta        0.116756\n",
       "               ...   \n",
       "Anisa        0.249266\n",
       "Enya         0.249456\n",
       "Lana         0.250721\n",
       "Malin        0.250742\n",
       "Shania       0.253298\n",
       "Sónia        0.254112\n",
       "Matilda      0.254901\n",
       "Egzona       0.256173\n",
       "Elina        0.258286\n",
       "Eline        0.260251\n",
       "Jaël         0.261599\n",
       "Kiara        0.264823\n",
       "Mia          0.266739\n",
       "Albulena     0.269191\n",
       "Amelie       0.269924\n",
       "Leana        0.270340\n",
       "Jara         0.271743\n",
       "Leona        0.273555\n",
       "Norah        0.281480\n",
       "Mégane       0.287236\n",
       "Ava          0.288000\n",
       "Fitore       0.289256\n",
       "Elin         0.296694\n",
       "Elea         0.297892\n",
       "Ela          0.299756\n",
       "Mila         0.299986\n",
       "Erina        0.312320\n",
       "Alea         0.316439\n",
       "Liridona     0.386957\n",
       "Malea        0.396190\n",
       "Length: 1001, dtype: float64"
      ]
     },
     "execution_count": 5,
     "metadata": {},
     "output_type": "execute_result"
    }
   ],
   "source": [
    "girls.apply(norm).sort_values()"
   ]
  },
  {
   "cell_type": "code",
   "execution_count": 6,
   "metadata": {},
   "outputs": [
    {
     "data": {
      "text/plain": [
       "Ajan         1.887003\n",
       "Lio          2.198045\n",
       "Lean         2.203565\n",
       "Lian         2.341162\n",
       "Timéo        2.407414\n",
       "Mael         2.504899\n",
       "Nevio        2.532331\n",
       "Arda         2.570776\n",
       "Fynn         2.603752\n",
       "Erion        2.685455\n",
       "Dion         2.721288\n",
       "Liam         2.725707\n",
       "Finn         2.732531\n",
       "Leart        2.741848\n",
       "Lorik        2.747693\n",
       "Ethan        2.747867\n",
       "Lenny        2.774447\n",
       "Levin        2.832914\n",
       "Liridon      2.863386\n",
       "Noe          2.876902\n",
       "Rayan        2.882802\n",
       "Levi         2.887774\n",
       "Noa          2.896498\n",
       "Nolan        2.907218\n",
       "Ben          2.918756\n",
       "Laurin       2.922839\n",
       "Ensar        2.929572\n",
       "Altin        2.944314\n",
       "Yanis        2.954541\n",
       "Jamie        2.964283\n",
       "               ...   \n",
       "Silvano      4.357522\n",
       "André        4.360560\n",
       "Antoine      4.365210\n",
       "Denis        4.367233\n",
       "John         4.369449\n",
       "Victor       4.372656\n",
       "Felix        4.372791\n",
       "Rino         4.375555\n",
       "Etienne      4.375868\n",
       "Julius       4.376546\n",
       "Enrico       4.377347\n",
       "Pietro       4.379021\n",
       "Filippo      4.382151\n",
       "Marius       4.384002\n",
       "Emilio       4.384319\n",
       "Viktor       4.386613\n",
       "Kaspar       4.389344\n",
       "Giulio       4.399344\n",
       "Francesco    4.399601\n",
       "Johannes     4.402190\n",
       "William      4.405063\n",
       "Gino         4.407622\n",
       "Carlo        4.421990\n",
       "Angelo       4.422654\n",
       "Rémy         4.423647\n",
       "Giacomo      4.428905\n",
       "Carl         4.440666\n",
       "Edouard      4.440675\n",
       "Maurice      4.450051\n",
       "Hugo         4.458888\n",
       "Length: 1001, dtype: float64"
      ]
     },
     "execution_count": 6,
     "metadata": {},
     "output_type": "execute_result"
    }
   ],
   "source": [
    "boys.apply(entropy).sort_values()"
   ]
  },
  {
   "cell_type": "code",
   "execution_count": 7,
   "metadata": {},
   "outputs": [
    {
     "data": {
      "text/plain": [
       "Hugo          0.111172\n",
       "Giacomo       0.112030\n",
       "Rémy          0.112625\n",
       "Maurice       0.113068\n",
       "Carl          0.113411\n",
       "Angelo        0.114030\n",
       "Gino          0.114167\n",
       "Edouard       0.114241\n",
       "Carlo         0.114608\n",
       "Filippo       0.115109\n",
       "Giulio        0.115156\n",
       "Francesco     0.115284\n",
       "Denis         0.115781\n",
       "Rino          0.116041\n",
       "Johannes      0.116226\n",
       "William       0.116355\n",
       "Enrico        0.116817\n",
       "Marino        0.117335\n",
       "Victor        0.117490\n",
       "Marius        0.117500\n",
       "Kaspar        0.117513\n",
       "Etienne       0.117856\n",
       "Pietro        0.117979\n",
       "Lorenz        0.118112\n",
       "Viktor        0.118195\n",
       "Mario         0.118349\n",
       "Emilio        0.118546\n",
       "Sebastiano    0.118601\n",
       "Milan         0.118662\n",
       "George        0.118680\n",
       "                ...   \n",
       "Nolan         0.248416\n",
       "Altin         0.249021\n",
       "Milo          0.249319\n",
       "Jamie         0.249763\n",
       "Laurin        0.250270\n",
       "Amar          0.252574\n",
       "Rayan         0.253002\n",
       "Noe           0.254123\n",
       "Burim         0.261054\n",
       "Levi          0.262213\n",
       "Levin         0.263303\n",
       "Ethan         0.267644\n",
       "Ben           0.268140\n",
       "Lenny         0.270348\n",
       "Dion          0.270704\n",
       "Erion         0.273417\n",
       "Finn          0.273873\n",
       "Leart         0.274447\n",
       "Lorik         0.277782\n",
       "Liridon       0.281812\n",
       "Fynn          0.287599\n",
       "Liam          0.288474\n",
       "Nevio         0.300163\n",
       "Arda          0.303410\n",
       "Mael          0.310410\n",
       "Timéo         0.311135\n",
       "Lian          0.340125\n",
       "Lean          0.359315\n",
       "Lio           0.374499\n",
       "Ajan          0.423314\n",
       "Length: 1001, dtype: float64"
      ]
     },
     "execution_count": 7,
     "metadata": {},
     "output_type": "execute_result"
    }
   ],
   "source": [
    "boys.apply(norm).sort_values()"
   ]
  },
  {
   "cell_type": "code",
   "execution_count": 8,
   "metadata": {},
   "outputs": [],
   "source": [
    "p = Plot(showLegend = True, useToolTip = False)"
   ]
  },
  {
   "cell_type": "code",
   "execution_count": 9,
   "metadata": {},
   "outputs": [
    {
     "data": {
      "application/vnd.jupyter.widget-view+json": {
       "model_id": "80ed59c2f81d4e6f92390ec8236ce415",
       "version_major": 2,
       "version_minor": 0
      }
     },
     "metadata": {},
     "output_type": "display_data"
    }
   ],
   "source": [
    "p.add(Line(girls[\"Charlotte\"].dropna(), displayName=\"Charlotte\"))\n",
    "p.add(Line(girls[\"Ela\"].dropna(), displayName=\"Ela\"))"
   ]
  }
 ],
 "metadata": {
  "kernelspec": {
   "display_name": "Python 3",
   "language": "python",
   "name": "python3"
  },
  "language_info": {
   "codemirror_mode": {
    "name": "ipython",
    "version": 3
   },
   "file_extension": ".py",
   "mimetype": "text/x-python",
   "name": "python",
   "nbconvert_exporter": "python",
   "pygments_lexer": "ipython3",
   "version": "3.6.7"
  },
  "toc": {
   "base_numbering": 1,
   "nav_menu": {},
   "number_sections": false,
   "sideBar": false,
   "skip_h1_title": false,
   "title_cell": "Table of Contents",
   "title_sidebar": "Contents",
   "toc_cell": false,
   "toc_position": {},
   "toc_section_display": false,
   "toc_window_display": false
  }
 },
 "nbformat": 4,
 "nbformat_minor": 2
}
