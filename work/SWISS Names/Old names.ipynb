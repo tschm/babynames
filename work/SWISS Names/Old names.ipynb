{
 "cells": [
  {
   "cell_type": "code",
   "execution_count": 11,
   "metadata": {},
   "outputs": [],
   "source": [
    "import pandas as pd\n",
    "from beakerx import *  \n",
    "pd.options.display.max_rows=20"
   ]
  },
  {
   "cell_type": "code",
   "execution_count": 12,
   "metadata": {},
   "outputs": [],
   "source": [
    "boys = pd.read_csv(\"boys.csv\", index_col=0)\n",
    "girls = pd.read_csv(\"girls.csv\", index_col=0)"
   ]
  },
  {
   "cell_type": "code",
   "execution_count": 13,
   "metadata": {},
   "outputs": [
    {
     "data": {},
     "metadata": {},
     "output_type": "display_data"
    }
   ],
   "source": [
    "boys"
   ]
  },
  {
   "cell_type": "code",
   "execution_count": 14,
   "metadata": {},
   "outputs": [
    {
     "data": {},
     "metadata": {},
     "output_type": "display_data"
    }
   ],
   "source": [
    "girls"
   ]
  },
  {
   "cell_type": "code",
   "execution_count": 15,
   "metadata": {},
   "outputs": [],
   "source": [
    "# write a function for the age of a name \n",
    "def age(ts):\n",
    "    # get into probabilities\n",
    "    p = ts.dropna()/ts.sum()\n",
    "    # accumulate all the probabilities\n",
    "    a = p.cumsum()\n",
    "    # get the first index where at least 50% of the babies have been boren\n",
    "    return a[a >= 0.5].index[0]"
   ]
  },
  {
   "cell_type": "code",
   "execution_count": 16,
   "metadata": {},
   "outputs": [
    {
     "data": {
      "text/plain": [
       "Berthe      1932\n",
       "Vreneli     1933\n",
       "Bertha      1933\n",
       "Hulda       1933\n",
       "Frieda      1934\n",
       "Marthe      1934\n",
       "Aloisia     1935\n",
       "Hermine     1936\n",
       "Bluette     1936\n",
       "Germaine    1936\n",
       "            ... \n",
       "Leana       2011\n",
       "Jara        2011\n",
       "Elin        2011\n",
       "Ava         2011\n",
       "Ela         2011\n",
       "Alea        2011\n",
       "Elea        2011\n",
       "Erina       2012\n",
       "Mila        2012\n",
       "Malea       2013\n",
       "Length: 1001, dtype: int64"
      ]
     },
     "execution_count": 16,
     "metadata": {},
     "output_type": "execute_result"
    }
   ],
   "source": [
    "girls.apply(age).sort_values()"
   ]
  },
  {
   "cell_type": "code",
   "execution_count": 17,
   "metadata": {},
   "outputs": [
    {
     "data": {
      "text/plain": [
       "Hansruedi    1938\n",
       "Adolf        1940\n",
       "Willy        1942\n",
       "Otto         1942\n",
       "Gottlieb     1942\n",
       "Fernand      1943\n",
       "Gottfried    1943\n",
       "Gaston       1943\n",
       "Horst        1943\n",
       "August       1943\n",
       "             ... \n",
       "Timéo        2011\n",
       "Fynn         2011\n",
       "Liam         2011\n",
       "Lorik        2011\n",
       "Leart        2011\n",
       "Lian         2012\n",
       "Mael         2012\n",
       "Lean         2013\n",
       "Lio          2013\n",
       "Ajan         2014\n",
       "Length: 1001, dtype: int64"
      ]
     },
     "execution_count": 17,
     "metadata": {},
     "output_type": "execute_result"
    }
   ],
   "source": [
    "boys.apply(age).sort_values()"
   ]
  },
  {
   "cell_type": "code",
   "execution_count": 20,
   "metadata": {},
   "outputs": [
    {
     "data": {},
     "metadata": {},
     "output_type": "display_data"
    }
   ],
   "source": [
    "p = Plot(showLegend=True, showToolTip=True)\n",
    "p.add(Line(boys[\"Adolf\"].dropna(), displayName=\"Adolf\"))"
   ]
  },
  {
   "cell_type": "code",
   "execution_count": null,
   "metadata": {},
   "outputs": [],
   "source": [
    "boys[\"Adolf\"].truncate(before=1946).sum()"
   ]
  }
 ],
 "metadata": {
  "kernelspec": {
   "display_name": "Python 3",
   "language": "python",
   "name": "python3"
  },
  "language_info": {
   "codemirror_mode": {
    "name": "ipython",
    "version": 3
   },
   "file_extension": ".py",
   "mimetype": "text/x-python",
   "name": "python",
   "nbconvert_exporter": "python",
   "pygments_lexer": "ipython3",
   "version": "3.6.7"
  },
  "toc": {
   "base_numbering": 1.0,
   "nav_menu": {},
   "number_sections": false,
   "sideBar": false,
   "skip_h1_title": false,
   "title_cell": "Table of Contents",
   "title_sidebar": "Contents",
   "toc_cell": false,
   "toc_position": {},
   "toc_section_display": false,
   "toc_window_display": false
  }
 },
 "nbformat": 4,
 "nbformat_minor": 2
}
