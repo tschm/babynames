{
 "cells": [
  {
   "cell_type": "code",
   "execution_count": null,
   "metadata": {},
   "outputs": [],
   "source": [
    "import pandas as pd\n",
    "import numpy as np\n",
    "pd.options.display.max_rows=20\n",
    "from beakerx import *"
   ]
  },
  {
   "cell_type": "code",
   "execution_count": null,
   "metadata": {},
   "outputs": [],
   "source": [
    "boys = pd.read_csv(\"boys.csv\", index_col=0)\n",
    "girls = pd.read_csv(\"girls.csv\", index_col=0)"
   ]
  },
  {
   "cell_type": "markdown",
   "metadata": {},
   "source": [
    "## Each name lives on the unit-simplex\n",
    "\n",
    "## Each name can be projected to the unit-sphere\n",
    "\n",
    "## We compute the Bhattacharyya angle (correlation)"
   ]
  },
  {
   "cell_type": "code",
   "execution_count": null,
   "metadata": {},
   "outputs": [],
   "source": [
    "# project to unit-simplex\n",
    "def proj_simplex(ts):\n",
    "    return ts.fillna(0)/ts.sum()\n",
    "    \n",
    "# project to unit-sphere \n",
    "def proj_sphere(ts):\n",
    "    return np.sqrt(proj_simplex(ts))"
   ]
  },
  {
   "cell_type": "code",
   "execution_count": null,
   "metadata": {},
   "outputs": [],
   "source": [
    "def match(body1, body2):\n",
    "    if isinstance(body1, pd.Series):\n",
    "        body1 = body1.to_frame()\n",
    "    if isinstance(body2, pd.Series):\n",
    "        body2 = body2.to_frame()\n",
    "    x = body1.apply(proj_sphere)\n",
    "    y = body2.apply(proj_sphere)\n",
    "    x = pd.DataFrame({key : x[key].dot(y) for key in x.keys()}).stack().sort_values()\n",
    "    x.index.names = [\"Name A\", \"Name B\"]\n",
    "    return x"
   ]
  },
  {
   "cell_type": "code",
   "execution_count": null,
   "metadata": {},
   "outputs": [],
   "source": [
    "x = match(boys[\"Thomas\"], girls)\n",
    "print(x)"
   ]
  },
  {
   "cell_type": "code",
   "execution_count": null,
   "metadata": {},
   "outputs": [],
   "source": [
    "match(boys, boys[\"Urs\"])"
   ]
  },
  {
   "cell_type": "code",
   "execution_count": null,
   "metadata": {},
   "outputs": [],
   "source": [
    "match(boys, girls)\n",
    "# Ruth is amazing!"
   ]
  },
  {
   "cell_type": "code",
   "execution_count": null,
   "metadata": {},
   "outputs": [],
   "source": [
    "def pair_plot(ts1, ts2, project=True):\n",
    "    if project:\n",
    "        ts1 = proj_simplex(ts1)\n",
    "        ts2 = proj_simplex(ts2)\n",
    "    print(match(ts1, ts2))\n",
    "    p = Plot(showLegend=True, useToolTip=False)\n",
    "    p.add(Line(ts1, displayName=ts1.name))\n",
    "    p.add(Line(ts2, displayName=ts2.name))\n",
    "    return p\n",
    "\n",
    "    #pd.concat((ts1,ts2), axis=1).plot()"
   ]
  },
  {
   "cell_type": "code",
   "execution_count": null,
   "metadata": {},
   "outputs": [],
   "source": [
    "pair_plot(boys[\"Thomas\"], girls[\"Lydia\"], project=True)"
   ]
  },
  {
   "cell_type": "code",
   "execution_count": null,
   "metadata": {},
   "outputs": [],
   "source": [
    "pair_plot(boys[\"Chris\"], girls[\"Rachel\"], project=True)"
   ]
  },
  {
   "cell_type": "code",
   "execution_count": null,
   "metadata": {},
   "outputs": [],
   "source": [
    "pair_plot(boys[\"Chris\"], boys[\"Christian\"], project=False)"
   ]
  },
  {
   "cell_type": "code",
   "execution_count": null,
   "metadata": {},
   "outputs": [],
   "source": [
    "pair_plot(boys[\"Urs\"], boys[\"Beat\"], project=True)"
   ]
  },
  {
   "cell_type": "code",
   "execution_count": null,
   "metadata": {},
   "outputs": [],
   "source": [
    "pair_plot(boys[\"Walter\"], girls[\"Ruth\"])"
   ]
  },
  {
   "cell_type": "code",
   "execution_count": null,
   "metadata": {},
   "outputs": [],
   "source": [
    "match(boys[\"Thomas\"],girls).mean()"
   ]
  },
  {
   "cell_type": "code",
   "execution_count": null,
   "metadata": {},
   "outputs": [],
   "source": [
    "# which girl has the best matching with the boys, e.g. we match each girl against all boys and compute the mean\n",
    "# for each girl. A high number indicates that the girl would be very compatible\n",
    "match(boys,girls).reset_index().groupby(by=\"Name A\")[0].mean().sort_values()"
   ]
  },
  {
   "cell_type": "code",
   "execution_count": null,
   "metadata": {},
   "outputs": [],
   "source": [
    "match(boys, girls).reset_index().groupby(by=\"Name A\")[0].mean().sort_values()"
   ]
  },
  {
   "cell_type": "code",
   "execution_count": null,
   "metadata": {},
   "outputs": [],
   "source": []
  }
 ],
 "metadata": {
  "kernelspec": {
   "display_name": "Python 3",
   "language": "python",
   "name": "python3"
  },
  "language_info": {
   "codemirror_mode": {
    "name": "ipython",
    "version": 3
   },
   "file_extension": ".py",
   "mimetype": "text/x-python",
   "name": "python",
   "nbconvert_exporter": "python",
   "pygments_lexer": "ipython3",
   "version": "3.6.7"
  },
  "toc": {
   "base_numbering": 1.0,
   "nav_menu": {},
   "number_sections": false,
   "sideBar": false,
   "skip_h1_title": false,
   "title_cell": "Table of Contents",
   "title_sidebar": "Contents",
   "toc_cell": false,
   "toc_position": {},
   "toc_section_display": false,
   "toc_window_display": false
  }
 },
 "nbformat": 4,
 "nbformat_minor": 2
}
