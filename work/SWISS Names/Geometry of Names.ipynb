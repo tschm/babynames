{
 "cells": [
  {
   "cell_type": "code",
   "execution_count": 11,
   "metadata": {},
   "outputs": [],
   "source": [
    "import pandas as pd\n",
    "import numpy as np\n",
    "pd.options.display.max_rows=20\n",
    "from beakerx import *"
   ]
  },
  {
   "cell_type": "code",
   "execution_count": 12,
   "metadata": {},
   "outputs": [],
   "source": [
    "boys = pd.read_csv(\"boys.csv\", index_col=0)\n",
    "girls = pd.read_csv(\"girls.csv\", index_col=0)"
   ]
  },
  {
   "cell_type": "markdown",
   "metadata": {},
   "source": [
    "## Each name lives on the unit-simplex\n",
    "\n",
    "## Each name can be projected to the unit-sphere\n",
    "\n",
    "## We compute the Bhattacharyya angle (correlation)"
   ]
  },
  {
   "cell_type": "code",
   "execution_count": 13,
   "metadata": {},
   "outputs": [],
   "source": [
    "# project to unit-simplex\n",
    "def proj_simplex(ts):\n",
    "    return ts.fillna(0)/ts.sum()\n",
    "    \n",
    "# project to unit-sphere \n",
    "def proj_sphere(ts):\n",
    "    return np.sqrt(proj_simplex(ts))"
   ]
  },
  {
   "cell_type": "code",
   "execution_count": 14,
   "metadata": {},
   "outputs": [],
   "source": [
    "def match(body1, body2):\n",
    "    if isinstance(body1, pd.Series):\n",
    "        body1 = body1.to_frame()\n",
    "    if isinstance(body2, pd.Series):\n",
    "        body2 = body2.to_frame()\n",
    "    x = body1.apply(proj_sphere)\n",
    "    y = body2.apply(proj_sphere)\n",
    "    x = pd.DataFrame({key : x[key].dot(y) for key in x.keys()}).stack().sort_values()\n",
    "    x.index.names = [\"Name A\", \"Name B\"]\n",
    "    return x"
   ]
  },
  {
   "cell_type": "code",
   "execution_count": 15,
   "metadata": {},
   "outputs": [
    {
     "name": "stdout",
     "output_type": "stream",
     "text": [
      "Name A     Name B\n",
      "Vreneli    Thomas    0.123203\n",
      "Malea      Thomas    0.139364\n",
      "Berthe     Thomas    0.188331\n",
      "Käthe      Thomas    0.201503\n",
      "Aloisia    Thomas    0.206416\n",
      "Norah      Thomas    0.208344\n",
      "Alea       Thomas    0.213282\n",
      "Elea       Thomas    0.215213\n",
      "Hulda      Thomas    0.217644\n",
      "Ela        Thomas    0.220429\n",
      "                       ...   \n",
      "Bettina    Thomas    0.982457\n",
      "Isabel     Thomas    0.983305\n",
      "Patrizia   Thomas    0.984941\n",
      "Cristina   Thomas    0.986265\n",
      "Franziska  Thomas    0.987189\n",
      "Claudia    Thomas    0.987475\n",
      "Daniela    Thomas    0.987561\n",
      "Patricia   Thomas    0.989455\n",
      "Sabina     Thomas    0.990225\n",
      "Isabelle   Thomas    0.996147\n",
      "Length: 1001, dtype: float64\n"
     ]
    }
   ],
   "source": [
    "x = match(boys[\"Thomas\"], girls)\n",
    "print(x)"
   ]
  },
  {
   "cell_type": "code",
   "execution_count": 16,
   "metadata": {},
   "outputs": [
    {
     "data": {
      "text/plain": [
       "Name A  Name B       \n",
       "Urs     Ajan             0.021155\n",
       "        Lean             0.029118\n",
       "        Lio              0.029173\n",
       "        Timéo            0.032286\n",
       "        Lian             0.034533\n",
       "        Mael             0.042842\n",
       "        Fynn             0.043329\n",
       "        Erion            0.047851\n",
       "        Dion             0.051394\n",
       "        Arda             0.053064\n",
       "                           ...   \n",
       "        Jean-Michel      0.981985\n",
       "        Norbert          0.983432\n",
       "        Jean-François    0.985148\n",
       "        Rolf             0.985743\n",
       "        Jean-Marc        0.987643\n",
       "        Jörg             0.989443\n",
       "        Roland           0.989977\n",
       "        Beat             0.991063\n",
       "        Jürg             0.996088\n",
       "        Urs              1.000000\n",
       "Length: 1001, dtype: float64"
      ]
     },
     "execution_count": 16,
     "metadata": {},
     "output_type": "execute_result"
    }
   ],
   "source": [
    "match(boys, boys[\"Urs\"])"
   ]
  },
  {
   "cell_type": "code",
   "execution_count": 17,
   "metadata": {},
   "outputs": [
    {
     "data": {
      "text/plain": [
       "Name A    Name B \n",
       "Bertha    Leart      0.000000\n",
       "Vreneli   Aurel      0.000000\n",
       "          Bashkim    0.000000\n",
       "Gerlinde  Besart     0.000000\n",
       "Vreneli   Melvin     0.000000\n",
       "          Egzon      0.000000\n",
       "          Jannik     0.000000\n",
       "Gerlinde  Ajan       0.000000\n",
       "Enya      Albino     0.000000\n",
       "Vreneli   Hélder     0.000000\n",
       "                       ...   \n",
       "Ruth      Werner     0.995554\n",
       "Doris     Rolf       0.995772\n",
       "Ruth      Josef      0.995815\n",
       "          Hans       0.995819\n",
       "Mirjam    Michael    0.995975\n",
       "Isabelle  Thomas     0.996147\n",
       "Ruth      Alfred     0.996206\n",
       "Marianne  Peter      0.996891\n",
       "Ursula    Ulrich     0.996977\n",
       "Ruth      Walter     0.997695\n",
       "Length: 1002001, dtype: float64"
      ]
     },
     "execution_count": 17,
     "metadata": {},
     "output_type": "execute_result"
    }
   ],
   "source": [
    "match(boys, girls)\n",
    "# Ruth is amazing!"
   ]
  },
  {
   "cell_type": "code",
   "execution_count": 20,
   "metadata": {},
   "outputs": [],
   "source": [
    "def pair_plot(ts1, ts2, project=True):\n",
    "    if project:\n",
    "        ts1 = proj_simplex(ts1)\n",
    "        ts2 = proj_simplex(ts2)\n",
    "    print(match(ts1, ts2))\n",
    "    p = Plot(showLegend=True, useToolTip=False)\n",
    "    p.add(Line(ts1, displayName=ts1.name))\n",
    "    p.add(Line(ts2, displayName=ts2.name))\n",
    "    return p\n",
    "\n",
    "    #pd.concat((ts1,ts2), axis=1).plot()"
   ]
  },
  {
   "cell_type": "code",
   "execution_count": 21,
   "metadata": {},
   "outputs": [
    {
     "name": "stdout",
     "output_type": "stream",
     "text": [
      "Name A  Name B\n",
      "Lydia   Thomas    0.748791\n",
      "dtype: float64\n"
     ]
    },
    {
     "data": {},
     "metadata": {},
     "output_type": "display_data"
    }
   ],
   "source": [
    "pair_plot(boys[\"Thomas\"], girls[\"Lydia\"], project=True)"
   ]
  },
  {
   "cell_type": "code",
   "execution_count": 22,
   "metadata": {},
   "outputs": [
    {
     "name": "stdout",
     "output_type": "stream",
     "text": [
      "Name A  Name B\n",
      "Rachel  Chris     0.827544\n",
      "dtype: float64\n"
     ]
    },
    {
     "data": {},
     "metadata": {},
     "output_type": "display_data"
    }
   ],
   "source": [
    "pair_plot(boys[\"Chris\"], girls[\"Rachel\"], project=True)"
   ]
  },
  {
   "cell_type": "code",
   "execution_count": 23,
   "metadata": {},
   "outputs": [
    {
     "name": "stdout",
     "output_type": "stream",
     "text": [
      "Name A     Name B\n",
      "Christian  Chris     0.632565\n",
      "dtype: float64\n"
     ]
    },
    {
     "data": {},
     "metadata": {},
     "output_type": "display_data"
    }
   ],
   "source": [
    "pair_plot(boys[\"Chris\"], boys[\"Christian\"], project=False)"
   ]
  },
  {
   "cell_type": "code",
   "execution_count": 24,
   "metadata": {},
   "outputs": [
    {
     "name": "stdout",
     "output_type": "stream",
     "text": [
      "Name A  Name B\n",
      "Beat    Urs       0.991063\n",
      "dtype: float64\n"
     ]
    },
    {
     "data": {},
     "metadata": {},
     "output_type": "display_data"
    }
   ],
   "source": [
    "pair_plot(boys[\"Urs\"], boys[\"Beat\"], project=True)"
   ]
  },
  {
   "cell_type": "code",
   "execution_count": 25,
   "metadata": {},
   "outputs": [
    {
     "name": "stdout",
     "output_type": "stream",
     "text": [
      "Name A  Name B\n",
      "Ruth    Walter    0.997695\n",
      "dtype: float64\n"
     ]
    },
    {
     "data": {},
     "metadata": {},
     "output_type": "display_data"
    }
   ],
   "source": [
    "pair_plot(boys[\"Walter\"], girls[\"Ruth\"])"
   ]
  },
  {
   "cell_type": "code",
   "execution_count": null,
   "metadata": {},
   "outputs": [],
   "source": [
    "match(boys[\"Thomas\"],girls).mean()"
   ]
  },
  {
   "cell_type": "code",
   "execution_count": 26,
   "metadata": {},
   "outputs": [
    {
     "data": {
      "text/plain": [
       "Name A\n",
       "Vreneli       0.170455\n",
       "Berthe        0.215745\n",
       "Hulda         0.237297\n",
       "Aloisia       0.238164\n",
       "Käthe         0.241385\n",
       "Malea         0.252634\n",
       "Bluette       0.267430\n",
       "Bertha        0.274112\n",
       "Lucette       0.290371\n",
       "Elisabetha    0.293597\n",
       "                ...   \n",
       "Maya          0.792857\n",
       "Ana           0.792865\n",
       "Marion        0.793192\n",
       "Francesca     0.793199\n",
       "Milena        0.793310\n",
       "Vera          0.794323\n",
       "Gloria        0.794494\n",
       "Carolina      0.794808\n",
       "Ilona         0.795513\n",
       "Adriana       0.801120\n",
       "Name: 0, Length: 1001, dtype: float64"
      ]
     },
     "execution_count": 26,
     "metadata": {},
     "output_type": "execute_result"
    }
   ],
   "source": [
    "# which girl has the best matching with the boys, e.g. we match each girl against all boys and compute the mean\n",
    "# for each girl. A high number indicates that the girl would be very compatible\n",
    "match(boys,girls).reset_index().groupby(by=\"Name A\")[0].mean().sort_values()"
   ]
  },
  {
   "cell_type": "code",
   "execution_count": 27,
   "metadata": {},
   "outputs": [
    {
     "data": {
      "text/plain": [
       "Name A\n",
       "Vreneli       0.170455\n",
       "Berthe        0.215745\n",
       "Hulda         0.237297\n",
       "Aloisia       0.238164\n",
       "Käthe         0.241385\n",
       "Malea         0.252634\n",
       "Bluette       0.267430\n",
       "Bertha        0.274112\n",
       "Lucette       0.290371\n",
       "Elisabetha    0.293597\n",
       "                ...   \n",
       "Maya          0.792857\n",
       "Ana           0.792865\n",
       "Marion        0.793192\n",
       "Francesca     0.793199\n",
       "Milena        0.793310\n",
       "Vera          0.794323\n",
       "Gloria        0.794494\n",
       "Carolina      0.794808\n",
       "Ilona         0.795513\n",
       "Adriana       0.801120\n",
       "Name: 0, Length: 1001, dtype: float64"
      ]
     },
     "execution_count": 27,
     "metadata": {},
     "output_type": "execute_result"
    }
   ],
   "source": [
    "match(boys, girls).reset_index().groupby(by=\"Name A\")[0].mean().sort_values()"
   ]
  },
  {
   "cell_type": "code",
   "execution_count": null,
   "metadata": {},
   "outputs": [],
   "source": []
  }
 ],
 "metadata": {
  "kernelspec": {
   "display_name": "Python 3",
   "language": "python",
   "name": "python3"
  },
  "language_info": {
   "codemirror_mode": {
    "name": "ipython",
    "version": 3
   },
   "file_extension": ".py",
   "mimetype": "text/x-python",
   "name": "python",
   "nbconvert_exporter": "python",
   "pygments_lexer": "ipython3",
   "version": "3.6.7"
  },
  "toc": {
   "base_numbering": 1.0,
   "nav_menu": {},
   "number_sections": false,
   "sideBar": false,
   "skip_h1_title": false,
   "title_cell": "Table of Contents",
   "title_sidebar": "Contents",
   "toc_cell": false,
   "toc_position": {},
   "toc_section_display": false,
   "toc_window_display": false
  }
 },
 "nbformat": 4,
 "nbformat_minor": 2
}
