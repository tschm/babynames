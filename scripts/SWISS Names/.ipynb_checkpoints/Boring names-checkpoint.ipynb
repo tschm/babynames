{
 "cells": [
  {
   "cell_type": "code",
   "execution_count": 1,
   "metadata": {
    "slideshow": {
     "slide_type": "slide"
    }
   },
   "outputs": [],
   "source": [
    "import pandas as pd\n",
    "%matplotlib inline  \n",
    "pd.options.display.max_rows=20"
   ]
  },
  {
   "cell_type": "code",
   "execution_count": 2,
   "metadata": {
    "slideshow": {
     "slide_type": "slide"
    }
   },
   "outputs": [],
   "source": [
    "boys = pd.read_csv(\"boys.csv\", index_col=0)\n",
    "girls = pd.read_csv(\"girls.csv\", index_col=0)"
   ]
  },
  {
   "cell_type": "markdown",
   "metadata": {
    "slideshow": {
     "slide_type": "slide"
    }
   },
   "source": [
    "# Definition: \n",
    "A name is *boring* if it's associated discrete distribution is close to a uniform distribution.\n",
    "\n",
    "The Shannon-entropy $\\sum p_i \\times \\log p_i$ is maximal for the uniform distribution. Dangerous! (Kullback-Leibler)\n",
    "\n",
    "The Euclidean norm $\\sqrt{\\sum p_i^2}$ is minimal for the uniform distribution. "
   ]
  },
  {
   "cell_type": "code",
   "execution_count": 3,
   "metadata": {
    "slideshow": {
     "slide_type": "slide"
    }
   },
   "outputs": [],
   "source": [
    "from scipy.stats import entropy as e\n",
    "def entropy(ts, base=None):\n",
    "    ts = ts.dropna()/ts.sum()\n",
    "    return e(ts, base=base)\n",
    "\n",
    "import numpy as np\n",
    "def norm(ts):\n",
    "    ts = ts.dropna()/ts.sum()\n",
    "    return np.linalg.norm(ts, 2)"
   ]
  },
  {
   "cell_type": "code",
   "execution_count": 4,
   "metadata": {
    "slideshow": {
     "slide_type": "slide"
    }
   },
   "outputs": [
    {
     "data": {
      "text/plain": [
       "Malea        1.922015\n",
       "Liridona     2.383276\n",
       "Alea         2.489563\n",
       "Erina        2.538360\n",
       "Ela          2.562839\n",
       "Norah        2.582800\n",
       "Elea         2.584822\n",
       "Elin         2.647004\n",
       "Ava          2.719921\n",
       "Mégane       2.732076\n",
       "               ...   \n",
       "Eleonora     4.458789\n",
       "Antonia      4.460043\n",
       "Claire       4.461556\n",
       "Adrienne     4.465776\n",
       "Helena       4.468316\n",
       "Cécile       4.475675\n",
       "Lidia        4.492047\n",
       "Flora        4.493008\n",
       "Anna         4.497587\n",
       "Charlotte    4.499979\n",
       "Length: 1001, dtype: float64"
      ]
     },
     "execution_count": 4,
     "metadata": {},
     "output_type": "execute_result"
    }
   ],
   "source": [
    "girls.apply(entropy).sort_values()"
   ]
  },
  {
   "cell_type": "code",
   "execution_count": 5,
   "metadata": {
    "slideshow": {
     "slide_type": "slide"
    }
   },
   "outputs": [
    {
     "data": {
      "text/plain": [
       "Charlotte    0.108804\n",
       "Flora        0.109369\n",
       "Lidia        0.109463\n",
       "Adrienne     0.110417\n",
       "Cécile       0.110465\n",
       "Anna         0.110636\n",
       "Eleonora     0.111261\n",
       "Antonia      0.111446\n",
       "Claire       0.111450\n",
       "Ellen        0.111652\n",
       "               ...   \n",
       "Ava          0.288000\n",
       "Fitore       0.289256\n",
       "Elin         0.296694\n",
       "Elea         0.297892\n",
       "Ela          0.299756\n",
       "Mila         0.299986\n",
       "Erina        0.312320\n",
       "Alea         0.316439\n",
       "Liridona     0.386957\n",
       "Malea        0.396190\n",
       "Length: 1001, dtype: float64"
      ]
     },
     "execution_count": 5,
     "metadata": {},
     "output_type": "execute_result"
    }
   ],
   "source": [
    "girls.apply(norm).sort_values()"
   ]
  },
  {
   "cell_type": "code",
   "execution_count": 6,
   "metadata": {
    "slideshow": {
     "slide_type": "slide"
    }
   },
   "outputs": [
    {
     "data": {
      "text/plain": [
       "Ajan       1.887003\n",
       "Lio        2.198045\n",
       "Lean       2.203565\n",
       "Lian       2.341162\n",
       "Timéo      2.407414\n",
       "Mael       2.504899\n",
       "Nevio      2.532331\n",
       "Arda       2.570776\n",
       "Fynn       2.603752\n",
       "Erion      2.685455\n",
       "             ...   \n",
       "William    4.405063\n",
       "Gino       4.407622\n",
       "Carlo      4.421990\n",
       "Angelo     4.422654\n",
       "Rémy       4.423647\n",
       "Giacomo    4.428905\n",
       "Carl       4.440666\n",
       "Edouard    4.440675\n",
       "Maurice    4.450051\n",
       "Hugo       4.458888\n",
       "Length: 1001, dtype: float64"
      ]
     },
     "execution_count": 6,
     "metadata": {},
     "output_type": "execute_result"
    }
   ],
   "source": [
    "boys.apply(entropy).sort_values()"
   ]
  },
  {
   "cell_type": "code",
   "execution_count": 7,
   "metadata": {
    "slideshow": {
     "slide_type": "slide"
    }
   },
   "outputs": [
    {
     "data": {
      "text/plain": [
       "Hugo       0.111172\n",
       "Giacomo    0.112030\n",
       "Rémy       0.112625\n",
       "Maurice    0.113068\n",
       "Carl       0.113411\n",
       "Angelo     0.114030\n",
       "Gino       0.114167\n",
       "Edouard    0.114241\n",
       "Carlo      0.114608\n",
       "Filippo    0.115109\n",
       "             ...   \n",
       "Fynn       0.287599\n",
       "Liam       0.288474\n",
       "Nevio      0.300163\n",
       "Arda       0.303410\n",
       "Mael       0.310410\n",
       "Timéo      0.311135\n",
       "Lian       0.340125\n",
       "Lean       0.359315\n",
       "Lio        0.374499\n",
       "Ajan       0.423314\n",
       "Length: 1001, dtype: float64"
      ]
     },
     "execution_count": 7,
     "metadata": {},
     "output_type": "execute_result"
    }
   ],
   "source": [
    "boys.apply(norm).sort_values()"
   ]
  },
  {
   "cell_type": "code",
   "execution_count": 8,
   "metadata": {
    "slideshow": {
     "slide_type": "slide"
    }
   },
   "outputs": [
    {
     "data": {
      "text/plain": [
       "<matplotlib.axes._subplots.AxesSubplot at 0x7f368c6a1390>"
      ]
     },
     "execution_count": 8,
     "metadata": {},
     "output_type": "execute_result"
    },
    {
     "data": {
      "image/png": "[encoded data removed]",
      "text/plain": [
       "<matplotlib.figure.Figure at 0x7f368d6e2940>"
      ]
     },
     "metadata": {},
     "output_type": "display_data"
    }
   ],
   "source": [
    "girls[\"Charlotte\"].plot()"
   ]
  },
  {
   "cell_type": "code",
   "execution_count": 9,
   "metadata": {
    "slideshow": {
     "slide_type": "slide"
    }
   },
   "outputs": [
    {
     "data": {
      "text/plain": [
       "<matplotlib.axes._subplots.AxesSubplot at 0x7f368c5d1f98>"
      ]
     },
     "execution_count": 9,
     "metadata": {},
     "output_type": "execute_result"
    },
    {
     "data": {
      "image/png": "[encoded data removed]",
      "text/plain": [
       "<matplotlib.figure.Figure at 0x7f368c682a90>"
      ]
     },
     "metadata": {},
     "output_type": "display_data"
    }
   ],
   "source": [
    "girls[\"Ela\"].plot()"
   ]
  }
 ],
 "metadata": {
  "celltoolbar": "Slideshow",
  "kernelspec": {
   "display_name": "Python 3",
   "language": "python",
   "name": "python3"
  },
  "language_info": {
   "codemirror_mode": {
    "name": "ipython",
    "version": 3
   },
   "file_extension": ".py",
   "mimetype": "text/x-python",
   "name": "python",
   "nbconvert_exporter": "python",
   "pygments_lexer": "ipython3",
   "version": "3.6.3"
  }
 },
 "nbformat": 4,
 "nbformat_minor": 2
}
