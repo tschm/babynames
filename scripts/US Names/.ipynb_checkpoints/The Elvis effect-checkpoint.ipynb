{
 "cells": [
  {
   "cell_type": "code",
   "execution_count": 13,
   "metadata": {},
   "outputs": [],
   "source": [
    "import pandas as pd\n",
    "%matplotlib inline  \n",
    "pd.options.display.max_rows=20"
   ]
  },
  {
   "cell_type": "code",
   "execution_count": 14,
   "metadata": {},
   "outputs": [
    {
     "data": {
      "text/html": [
       "<div>\n",
       "<table border=\"1\" class=\"dataframe\">\n",
       "  <thead>\n",
       "    <tr style=\"text-align: right;\">\n",
       "      <th></th>\n",
       "      <th>Name</th>\n",
       "      <th>Gender</th>\n",
       "      <th>n</th>\n",
       "      <th>year</th>\n",
       "    </tr>\n",
       "  </thead>\n",
       "  <tbody>\n",
       "    <tr>\n",
       "      <th>0</th>\n",
       "      <td>Mary</td>\n",
       "      <td>F</td>\n",
       "      <td>7065</td>\n",
       "      <td>1880</td>\n",
       "    </tr>\n",
       "    <tr>\n",
       "      <th>1</th>\n",
       "      <td>Anna</td>\n",
       "      <td>F</td>\n",
       "      <td>2604</td>\n",
       "      <td>1880</td>\n",
       "    </tr>\n",
       "    <tr>\n",
       "      <th>2</th>\n",
       "      <td>Emma</td>\n",
       "      <td>F</td>\n",
       "      <td>2003</td>\n",
       "      <td>1880</td>\n",
       "    </tr>\n",
       "    <tr>\n",
       "      <th>3</th>\n",
       "      <td>Elizabeth</td>\n",
       "      <td>F</td>\n",
       "      <td>1939</td>\n",
       "      <td>1880</td>\n",
       "    </tr>\n",
       "    <tr>\n",
       "      <th>4</th>\n",
       "      <td>Minnie</td>\n",
       "      <td>F</td>\n",
       "      <td>1746</td>\n",
       "      <td>1880</td>\n",
       "    </tr>\n",
       "    <tr>\n",
       "      <th>5</th>\n",
       "      <td>Margaret</td>\n",
       "      <td>F</td>\n",
       "      <td>1578</td>\n",
       "      <td>1880</td>\n",
       "    </tr>\n",
       "    <tr>\n",
       "      <th>6</th>\n",
       "      <td>Ida</td>\n",
       "      <td>F</td>\n",
       "      <td>1472</td>\n",
       "      <td>1880</td>\n",
       "    </tr>\n",
       "    <tr>\n",
       "      <th>7</th>\n",
       "      <td>Alice</td>\n",
       "      <td>F</td>\n",
       "      <td>1414</td>\n",
       "      <td>1880</td>\n",
       "    </tr>\n",
       "    <tr>\n",
       "      <th>8</th>\n",
       "      <td>Bertha</td>\n",
       "      <td>F</td>\n",
       "      <td>1320</td>\n",
       "      <td>1880</td>\n",
       "    </tr>\n",
       "    <tr>\n",
       "      <th>9</th>\n",
       "      <td>Sarah</td>\n",
       "      <td>F</td>\n",
       "      <td>1288</td>\n",
       "      <td>1880</td>\n",
       "    </tr>\n",
       "    <tr>\n",
       "      <th>...</th>\n",
       "      <td>...</td>\n",
       "      <td>...</td>\n",
       "      <td>...</td>\n",
       "      <td>...</td>\n",
       "    </tr>\n",
       "    <tr>\n",
       "      <th>1858679</th>\n",
       "      <td>Ziyu</td>\n",
       "      <td>M</td>\n",
       "      <td>5</td>\n",
       "      <td>2015</td>\n",
       "    </tr>\n",
       "    <tr>\n",
       "      <th>1858680</th>\n",
       "      <td>Zoel</td>\n",
       "      <td>M</td>\n",
       "      <td>5</td>\n",
       "      <td>2015</td>\n",
       "    </tr>\n",
       "    <tr>\n",
       "      <th>1858681</th>\n",
       "      <td>Zohar</td>\n",
       "      <td>M</td>\n",
       "      <td>5</td>\n",
       "      <td>2015</td>\n",
       "    </tr>\n",
       "    <tr>\n",
       "      <th>1858682</th>\n",
       "      <td>Zolton</td>\n",
       "      <td>M</td>\n",
       "      <td>5</td>\n",
       "      <td>2015</td>\n",
       "    </tr>\n",
       "    <tr>\n",
       "      <th>1858683</th>\n",
       "      <td>Zyah</td>\n",
       "      <td>M</td>\n",
       "      <td>5</td>\n",
       "      <td>2015</td>\n",
       "    </tr>\n",
       "    <tr>\n",
       "      <th>1858684</th>\n",
       "      <td>Zykell</td>\n",
       "      <td>M</td>\n",
       "      <td>5</td>\n",
       "      <td>2015</td>\n",
       "    </tr>\n",
       "    <tr>\n",
       "      <th>1858685</th>\n",
       "      <td>Zyking</td>\n",
       "      <td>M</td>\n",
       "      <td>5</td>\n",
       "      <td>2015</td>\n",
       "    </tr>\n",
       "    <tr>\n",
       "      <th>1858686</th>\n",
       "      <td>Zykir</td>\n",
       "      <td>M</td>\n",
       "      <td>5</td>\n",
       "      <td>2015</td>\n",
       "    </tr>\n",
       "    <tr>\n",
       "      <th>1858687</th>\n",
       "      <td>Zyrus</td>\n",
       "      <td>M</td>\n",
       "      <td>5</td>\n",
       "      <td>2015</td>\n",
       "    </tr>\n",
       "    <tr>\n",
       "      <th>1858688</th>\n",
       "      <td>Zyus</td>\n",
       "      <td>M</td>\n",
       "      <td>5</td>\n",
       "      <td>2015</td>\n",
       "    </tr>\n",
       "  </tbody>\n",
       "</table>\n",
       "<p>1858689 rows × 4 columns</p>\n",
       "</div>"
      ],
      "text/plain": [
       "              Name Gender     n  year\n",
       "0             Mary      F  7065  1880\n",
       "1             Anna      F  2604  1880\n",
       "2             Emma      F  2003  1880\n",
       "3        Elizabeth      F  1939  1880\n",
       "4           Minnie      F  1746  1880\n",
       "5         Margaret      F  1578  1880\n",
       "6              Ida      F  1472  1880\n",
       "7            Alice      F  1414  1880\n",
       "8           Bertha      F  1320  1880\n",
       "9            Sarah      F  1288  1880\n",
       "...            ...    ...   ...   ...\n",
       "1858679       Ziyu      M     5  2015\n",
       "1858680       Zoel      M     5  2015\n",
       "1858681      Zohar      M     5  2015\n",
       "1858682     Zolton      M     5  2015\n",
       "1858683       Zyah      M     5  2015\n",
       "1858684     Zykell      M     5  2015\n",
       "1858685     Zyking      M     5  2015\n",
       "1858686      Zykir      M     5  2015\n",
       "1858687      Zyrus      M     5  2015\n",
       "1858688       Zyus      M     5  2015\n",
       "\n",
       "[1858689 rows x 4 columns]"
      ]
     },
     "execution_count": 14,
     "metadata": {},
     "output_type": "execute_result"
    }
   ],
   "source": [
    "from os.path import expanduser, join, exists\n",
    "home = expanduser(\"~\")\n",
    "data = join(home, \"work\", \"data\", \"us\", \"us.csv\")\n",
    "assert exists(data)\n",
    "\n",
    "names = pd.read_csv(data, index_col=0)\n",
    "names"
   ]
  },
  {
   "cell_type": "code",
   "execution_count": 15,
   "metadata": {},
   "outputs": [],
   "source": [
    "def filter(name, gender=[\"M\",\"F\"]):\n",
    "    return names.loc[(names[\"Name\"]==name) & (names[\"Gender\"].isin(gender))][\"n\"]"
   ]
  },
  {
   "cell_type": "code",
   "execution_count": 16,
   "metadata": {},
   "outputs": [
    {
     "data": {
      "text/plain": [
       "17413        5\n",
       "22647        5\n",
       "39729        5\n",
       "14806        7\n",
       "30638        7\n",
       "33528        7\n",
       "58823        7\n",
       "3604         8\n",
       "84174        8\n",
       "68975        8\n",
       "          ... \n",
       "820130     299\n",
       "1411341    314\n",
       "1609122    325\n",
       "1350851    333\n",
       "1574251    355\n",
       "1321552    361\n",
       "838382     364\n",
       "556583     373\n",
       "533503     420\n",
       "544917     598\n",
       "Name: n, dtype: int64"
      ]
     },
     "execution_count": 16,
     "metadata": {},
     "output_type": "execute_result"
    },
    {
     "data": {
      "image/png": "[encoded data removed]",
      "text/plain": [
       "<matplotlib.figure.Figure at 0x7f337a401c88>"
      ]
     },
     "metadata": {},
     "output_type": "display_data"
    }
   ],
   "source": [
    "f = filter(name=\"Elvis\", gender=[\"M\"])\n",
    "f.plot()\n",
    "f.sort_values()"
   ]
  },
  {
   "cell_type": "code",
   "execution_count": 17,
   "metadata": {},
   "outputs": [
    {
     "data": {
      "text/plain": [
       "108124      5\n",
       "913631      5\n",
       "894072      5\n",
       "836723      5\n",
       "555520      5\n",
       "446906      5\n",
       "269793      5\n",
       "389181      5\n",
       "196302      5\n",
       "164118      5\n",
       "           ..\n",
       "174010      6\n",
       "931719      6\n",
       "1569109     6\n",
       "205565      8\n",
       "152291      8\n",
       "122935      8\n",
       "215940      9\n",
       "237092     10\n",
       "324265     10\n",
       "540952     13\n",
       "Name: n, dtype: int64"
      ]
     },
     "execution_count": 17,
     "metadata": {},
     "output_type": "execute_result"
    },
    {
     "data": {
      "image/png": "[encoded data removed]",
      "text/plain": [
       "<matplotlib.figure.Figure at 0x7f3378784748>"
      ]
     },
     "metadata": {},
     "output_type": "display_data"
    }
   ],
   "source": [
    "f = filter(name=\"Elvis\", gender=[\"F\"])\n",
    "f.plot()\n",
    "f.sort_values()"
   ]
  },
  {
   "cell_type": "code",
   "execution_count": 18,
   "metadata": {},
   "outputs": [
    {
     "data": {
      "text/plain": [
       "457465        5\n",
       "499639        5\n",
       "532875        5\n",
       "541026       13\n",
       "552215       16\n",
       "648196       20\n",
       "672771       21\n",
       "635949       24\n",
       "660004       25\n",
       "611161       26\n",
       "           ... \n",
       "1304770     320\n",
       "1070163     337\n",
       "1119971     343\n",
       "1276808     359\n",
       "1094825     372\n",
       "1249782     398\n",
       "1046277     417\n",
       "1023870     453\n",
       "1002334     659\n",
       "981582     1034\n",
       "Name: n, dtype: int64"
      ]
     },
     "execution_count": 18,
     "metadata": {},
     "output_type": "execute_result"
    },
    {
     "data": {
      "image/png": "[encoded data removed]",
      "text/plain": [
       "<matplotlib.figure.Figure at 0x7f33786bc5c0>"
      ]
     },
     "metadata": {},
     "output_type": "display_data"
    }
   ],
   "source": [
    "f = filter(name=\"Nikita\", gender=[\"F\"])\n",
    "f.plot()\n",
    "f.sort_values()"
   ]
  },
  {
   "cell_type": "code",
   "execution_count": 19,
   "metadata": {},
   "outputs": [
    {
     "data": {
      "text/plain": [
       "Name       Gender\n",
       "Aaban      M           87\n",
       "Aabha      F           28\n",
       "Aabid      M            5\n",
       "Aabriella  F           15\n",
       "Aada       F            5\n",
       "Aadam      M          218\n",
       "Aadan      M          122\n",
       "Aadarsh    M          173\n",
       "Aaden      F            5\n",
       "           M         4213\n",
       "                     ... \n",
       "Zytaevius  M            5\n",
       "Zytaveon   M           16\n",
       "Zytavion   M            5\n",
       "Zytavious  M           43\n",
       "Zyus       M            5\n",
       "Zyvion     M            5\n",
       "Zyvon      M            6\n",
       "Zyyanna    F            6\n",
       "Zyyon      M            6\n",
       "Zzyzx      M            5\n",
       "Name: n, dtype: int64"
      ]
     },
     "execution_count": 19,
     "metadata": {},
     "output_type": "execute_result"
    }
   ],
   "source": [
    "a=names.groupby([\"Name\",\"Gender\"])[\"n\"].sum()\n",
    "a"
   ]
  },
  {
   "cell_type": "code",
   "execution_count": null,
   "metadata": {},
   "outputs": [],
   "source": []
  }
 ],
 "metadata": {
  "kernelspec": {
   "display_name": "Python 3",
   "language": "python",
   "name": "python3"
  },
  "language_info": {
   "codemirror_mode": {
    "name": "ipython",
    "version": 3
   },
   "file_extension": ".py",
   "mimetype": "text/x-python",
   "name": "python",
   "nbconvert_exporter": "python",
   "pygments_lexer": "ipython3",
   "version": "3.6.3"
  }
 },
 "nbformat": 4,
 "nbformat_minor": 2
}
